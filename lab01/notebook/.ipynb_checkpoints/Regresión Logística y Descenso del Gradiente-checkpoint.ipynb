{
 "cells": [
  {
   "cell_type": "markdown",
   "metadata": {},
   "source": [
    "<h1><center> $\\color{Crimson}{\\text{Regresión Logística y Descenso del Gradiente}}$</center></h1>\n",
    "\n",
    "---\n",
    "\n",
    "<h2><center> Beatriz Quevedo Gómez </center></h2> \n",
    "<h3><center> Noviembre 2020 </center></h3>"
   ]
  },
  {
   "cell_type": "markdown",
   "metadata": {},
   "source": [
    "<center> <img src='../data/GradientDescent.jpg' width = '800' height = 400> <center>"
   ]
  },
  {
   "cell_type": "markdown",
   "metadata": {},
   "source": [
    "***"
   ]
  },
  {
   "cell_type": "markdown",
   "metadata": {},
   "source": [
    "## Índice:\n",
    "1. [Objetivo](#1) \n",
    "2. [Carga de librerías y datos](#2)\n",
    "3. [Descripción y tratamiento inicial de los datos](#3)\n",
    "4. [Definición de la Función Sigmoidea Logística $\\sigma(z)$ ](#4)\n",
    "5. [Cálculo de la Función de Coste $J(\\theta)$ y el Gradiente](#5)\n",
    "6. [Coste y Gradiente en el Inicio](#6)\n",
    "7. [Descenso del Gradiente](#7)\n",
    "8. [Graficar la Convergencia de $J(\\theta)$](#8)\n",
    "9. [Trazar el límite de decisión](#9)\n",
    "10. [Predicciones usando los valores optimizados de $\\theta$](#10)"
   ]
  },
  {
   "cell_type": "markdown",
   "metadata": {},
   "source": [
    "***"
   ]
  },
  {
   "cell_type": "markdown",
   "metadata": {},
   "source": [
    "## Objetivo <a class=\"anchor\" id=\"1\"></a>\n",
    "\n",
    "El objetivo del presente trabajo es programar el descenso del gradiente en Python en base al archivo de datos facilitado en clase, explicando el notebook con el máximo grado de detalle para trabajar en el entendimiento del algoritmo. \n",
    "\n",
    "El método del __descenso del gradiente__ es un algoritmo de optimización que permite converger hacia el valor mínimo de una función $J(\\theta)$ (en este caso una Función de Coste) mediante un proceso iterativo."
   ]
  },
  {
   "cell_type": "markdown",
   "metadata": {},
   "source": [
    "***"
   ]
  },
  {
   "cell_type": "markdown",
   "metadata": {},
   "source": [
    "## Carga de librerías y datos <a class=\"anchor\" id=\"2\"></a>"
   ]
  },
  {
   "cell_type": "code",
   "execution_count": 1,
   "metadata": {},
   "outputs": [],
   "source": [
    "import pandas as pd\n",
    "import numpy as np\n",
    "import matplotlib.pyplot as plt\n",
    "import seaborn as sns\n",
    "sns.set()"
   ]
  },
  {
   "cell_type": "code",
   "execution_count": 2,
   "metadata": {
    "scrolled": true
   },
   "outputs": [
    {
     "data": {
      "text/html": [
       "<div>\n",
       "<style scoped>\n",
       "    .dataframe tbody tr th:only-of-type {\n",
       "        vertical-align: middle;\n",
       "    }\n",
       "\n",
       "    .dataframe tbody tr th {\n",
       "        vertical-align: top;\n",
       "    }\n",
       "\n",
       "    .dataframe thead th {\n",
       "        text-align: right;\n",
       "    }\n",
       "</style>\n",
       "<table border=\"1\" class=\"dataframe\">\n",
       "  <thead>\n",
       "    <tr style=\"text-align: right;\">\n",
       "      <th></th>\n",
       "      <th>score-1</th>\n",
       "      <th>score-2</th>\n",
       "      <th>label</th>\n",
       "    </tr>\n",
       "  </thead>\n",
       "  <tbody>\n",
       "    <tr>\n",
       "      <th>0</th>\n",
       "      <td>34.623660</td>\n",
       "      <td>78.024693</td>\n",
       "      <td>0</td>\n",
       "    </tr>\n",
       "    <tr>\n",
       "      <th>1</th>\n",
       "      <td>30.286711</td>\n",
       "      <td>43.894998</td>\n",
       "      <td>0</td>\n",
       "    </tr>\n",
       "    <tr>\n",
       "      <th>2</th>\n",
       "      <td>35.847409</td>\n",
       "      <td>72.902198</td>\n",
       "      <td>0</td>\n",
       "    </tr>\n",
       "  </tbody>\n",
       "</table>\n",
       "</div>"
      ],
      "text/plain": [
       "     score-1    score-2  label\n",
       "0  34.623660  78.024693      0\n",
       "1  30.286711  43.894998      0\n",
       "2  35.847409  72.902198      0"
      ]
     },
     "execution_count": 2,
     "metadata": {},
     "output_type": "execute_result"
    }
   ],
   "source": [
    "data = pd.read_csv('../data/4_1_data.csv')\n",
    "data.head(3)"
   ]
  },
  {
   "cell_type": "markdown",
   "metadata": {},
   "source": [
    "***"
   ]
  },
  {
   "cell_type": "markdown",
   "metadata": {},
   "source": [
    "## Descripción y tratamiento inicial de los datos <a class=\"anchor\" id=\"3\"></a>\n",
    "\n",
    "El DataFrame (en adelante DF) se compone de datos históricos acerca de las puntuaciones en dos exámenes de admisión (_score-1_ y _score-2_) de una muestra de 100 observaciones (personas que realizan los exámenes). \n",
    "\n",
    "Adicionalmente, la variable _label_ indica si las personas fueron admitidas (1) o no (0). "
   ]
  },
  {
   "cell_type": "code",
   "execution_count": 3,
   "metadata": {},
   "outputs": [
    {
     "data": {
      "text/plain": [
       "(100, 3)"
      ]
     },
     "execution_count": 3,
     "metadata": {},
     "output_type": "execute_result"
    }
   ],
   "source": [
    "data.shape"
   ]
  },
  {
   "cell_type": "code",
   "execution_count": 4,
   "metadata": {},
   "outputs": [
    {
     "name": "stdout",
     "output_type": "stream",
     "text": [
      "<class 'pandas.core.frame.DataFrame'>\n",
      "RangeIndex: 100 entries, 0 to 99\n",
      "Data columns (total 3 columns):\n",
      " #   Column   Non-Null Count  Dtype  \n",
      "---  ------   --------------  -----  \n",
      " 0   score-1  100 non-null    float64\n",
      " 1   score-2  100 non-null    float64\n",
      " 2   label    100 non-null    int64  \n",
      "dtypes: float64(2), int64(1)\n",
      "memory usage: 2.5 KB\n"
     ]
    }
   ],
   "source": [
    "data.info()"
   ]
  },
  {
   "cell_type": "markdown",
   "metadata": {},
   "source": [
    "Las tres columnas son variables numéricas: las puntuaciones de los exámenes son de tipo float, mientras que _label_ es una variable dicotómica y por tanto de tipo int (entero)."
   ]
  },
  {
   "cell_type": "code",
   "execution_count": 5,
   "metadata": {},
   "outputs": [
    {
     "data": {
      "text/plain": [
       "score-1    False\n",
       "score-2    False\n",
       "label      False\n",
       "dtype: bool"
      ]
     },
     "execution_count": 5,
     "metadata": {},
     "output_type": "execute_result"
    }
   ],
   "source": [
    "data.isnull().any()"
   ]
  },
  {
   "cell_type": "markdown",
   "metadata": {},
   "source": [
    "No hay valores perdidos en ninguna columna del DF."
   ]
  },
  {
   "cell_type": "markdown",
   "metadata": {},
   "source": [
    "Para facilitar los futuros estudios se recodificarán los nombres de las columnas _score-1_ y _score-2_."
   ]
  },
  {
   "cell_type": "code",
   "execution_count": 6,
   "metadata": {},
   "outputs": [
    {
     "data": {
      "text/html": [
       "<div>\n",
       "<style scoped>\n",
       "    .dataframe tbody tr th:only-of-type {\n",
       "        vertical-align: middle;\n",
       "    }\n",
       "\n",
       "    .dataframe tbody tr th {\n",
       "        vertical-align: top;\n",
       "    }\n",
       "\n",
       "    .dataframe thead th {\n",
       "        text-align: right;\n",
       "    }\n",
       "</style>\n",
       "<table border=\"1\" class=\"dataframe\">\n",
       "  <thead>\n",
       "    <tr style=\"text-align: right;\">\n",
       "      <th></th>\n",
       "      <th>score1</th>\n",
       "      <th>score2</th>\n",
       "      <th>label</th>\n",
       "    </tr>\n",
       "  </thead>\n",
       "  <tbody>\n",
       "    <tr>\n",
       "      <th>0</th>\n",
       "      <td>34.623660</td>\n",
       "      <td>78.024693</td>\n",
       "      <td>0</td>\n",
       "    </tr>\n",
       "    <tr>\n",
       "      <th>1</th>\n",
       "      <td>30.286711</td>\n",
       "      <td>43.894998</td>\n",
       "      <td>0</td>\n",
       "    </tr>\n",
       "  </tbody>\n",
       "</table>\n",
       "</div>"
      ],
      "text/plain": [
       "      score1     score2  label\n",
       "0  34.623660  78.024693      0\n",
       "1  30.286711  43.894998      0"
      ]
     },
     "execution_count": 6,
     "metadata": {},
     "output_type": "execute_result"
    }
   ],
   "source": [
    "data = data.rename( columns = {'score-1' : 'score1', 'score-2' : 'score2'})\n",
    "data.head(2)"
   ]
  },
  {
   "cell_type": "markdown",
   "metadata": {},
   "source": [
    "Para graficar el diagrama de dispersión de las puntuaciones de los exámenes en función de si han sido o no admitidos, primero se crea una nueva columna en el DF llamada _admission_ que tendrá como valores _'admitted'_ si fue admitido y _'unadmitted'_ si no. "
   ]
  },
  {
   "cell_type": "code",
   "execution_count": 7,
   "metadata": {},
   "outputs": [
    {
     "data": {
      "text/html": [
       "<div>\n",
       "<style scoped>\n",
       "    .dataframe tbody tr th:only-of-type {\n",
       "        vertical-align: middle;\n",
       "    }\n",
       "\n",
       "    .dataframe tbody tr th {\n",
       "        vertical-align: top;\n",
       "    }\n",
       "\n",
       "    .dataframe thead th {\n",
       "        text-align: right;\n",
       "    }\n",
       "</style>\n",
       "<table border=\"1\" class=\"dataframe\">\n",
       "  <thead>\n",
       "    <tr style=\"text-align: right;\">\n",
       "      <th></th>\n",
       "      <th>score1</th>\n",
       "      <th>score2</th>\n",
       "      <th>label</th>\n",
       "      <th>admission</th>\n",
       "    </tr>\n",
       "  </thead>\n",
       "  <tbody>\n",
       "    <tr>\n",
       "      <th>0</th>\n",
       "      <td>34.623660</td>\n",
       "      <td>78.024693</td>\n",
       "      <td>0</td>\n",
       "      <td>unadmitted</td>\n",
       "    </tr>\n",
       "    <tr>\n",
       "      <th>1</th>\n",
       "      <td>30.286711</td>\n",
       "      <td>43.894998</td>\n",
       "      <td>0</td>\n",
       "      <td>unadmitted</td>\n",
       "    </tr>\n",
       "    <tr>\n",
       "      <th>2</th>\n",
       "      <td>35.847409</td>\n",
       "      <td>72.902198</td>\n",
       "      <td>0</td>\n",
       "      <td>unadmitted</td>\n",
       "    </tr>\n",
       "    <tr>\n",
       "      <th>3</th>\n",
       "      <td>60.182599</td>\n",
       "      <td>86.308552</td>\n",
       "      <td>1</td>\n",
       "      <td>admitted</td>\n",
       "    </tr>\n",
       "    <tr>\n",
       "      <th>4</th>\n",
       "      <td>79.032736</td>\n",
       "      <td>75.344376</td>\n",
       "      <td>1</td>\n",
       "      <td>admitted</td>\n",
       "    </tr>\n",
       "  </tbody>\n",
       "</table>\n",
       "</div>"
      ],
      "text/plain": [
       "      score1     score2  label   admission\n",
       "0  34.623660  78.024693      0  unadmitted\n",
       "1  30.286711  43.894998      0  unadmitted\n",
       "2  35.847409  72.902198      0  unadmitted\n",
       "3  60.182599  86.308552      1    admitted\n",
       "4  79.032736  75.344376      1    admitted"
      ]
     },
     "execution_count": 7,
     "metadata": {},
     "output_type": "execute_result"
    }
   ],
   "source": [
    "def admin (lab):\n",
    "    if lab == 1:\n",
    "        return 'admitted'\n",
    "    else:\n",
    "        return 'unadmitted'\n",
    "\n",
    "data['admission'] = data.label.map(admin)\n",
    "data.head()"
   ]
  },
  {
   "cell_type": "code",
   "execution_count": 8,
   "metadata": {},
   "outputs": [
    {
     "data": {
      "text/plain": [
       "<matplotlib.legend.Legend at 0x7ffa7cacb730>"
      ]
     },
     "execution_count": 8,
     "metadata": {},
     "output_type": "execute_result"
    },
    {
     "data": {
      "image/png": "[encoded data removed]",
      "text/plain": [
       "<Figure size 432x288 with 1 Axes>"
      ]
     },
     "metadata": {},
     "output_type": "display_data"
    }
   ],
   "source": [
    "scat = sns.scatterplot(data = data, x = 'score1', y = 'score2', hue = 'admission')\n",
    "plt.legend(bbox_to_anchor=(1, 0.5))"
   ]
  },
  {
   "cell_type": "markdown",
   "metadata": {},
   "source": [
    "Se puede apreciar por tanto una gran diferencia de grupos entre las notas y si fueron o no admitidos. "
   ]
  },
  {
   "cell_type": "code",
   "execution_count": 9,
   "metadata": {},
   "outputs": [
    {
     "data": {
      "text/plain": [
       "<seaborn.axisgrid.FacetGrid at 0x7ffa7cb669a0>"
      ]
     },
     "execution_count": 9,
     "metadata": {},
     "output_type": "execute_result"
    },
    {
     "data": {
      "image/png": "[encoded data removed]",
      "text/plain": [
       "<Figure size 454.35x360 with 1 Axes>"
      ]
     },
     "metadata": {},
     "output_type": "display_data"
    }
   ],
   "source": [
    "sns.displot(data, x = data['admission'], hue = 'admission')"
   ]
  },
  {
   "cell_type": "markdown",
   "metadata": {},
   "source": [
    "Además, en el gráfico de barras se observa que hay un __60% de admitidos__ y un __40% de no admitidos__."
   ]
  },
  {
   "cell_type": "markdown",
   "metadata": {},
   "source": [
    "### Estadísticos descriptivos de los exámenes"
   ]
  },
  {
   "cell_type": "code",
   "execution_count": 10,
   "metadata": {},
   "outputs": [
    {
     "data": {
      "text/plain": [
       "count    100.000000\n",
       "mean      65.644274\n",
       "std       19.458222\n",
       "min       30.058822\n",
       "25%       50.919511\n",
       "50%       67.032988\n",
       "75%       80.212529\n",
       "max       99.827858\n",
       "Name: score1, dtype: float64"
      ]
     },
     "execution_count": 10,
     "metadata": {},
     "output_type": "execute_result"
    }
   ],
   "source": [
    "data.score1.describe()"
   ]
  },
  {
   "cell_type": "markdown",
   "metadata": {},
   "source": [
    "La media de puntuación del primer examen es de __65.64__, con una desviación de __19.45__. La nota más baja fue de __30.05__ y la más alta de __99.82__."
   ]
  },
  {
   "cell_type": "code",
   "execution_count": 11,
   "metadata": {},
   "outputs": [
    {
     "data": {
      "text/plain": [
       "count    100.000000\n",
       "mean      66.221998\n",
       "std       18.582783\n",
       "min       30.603263\n",
       "25%       48.179205\n",
       "50%       67.682381\n",
       "75%       79.360605\n",
       "max       98.869436\n",
       "Name: score2, dtype: float64"
      ]
     },
     "execution_count": 11,
     "metadata": {},
     "output_type": "execute_result"
    }
   ],
   "source": [
    "data.score2.describe()"
   ]
  },
  {
   "cell_type": "markdown",
   "metadata": {},
   "source": [
    "El segundo examen tuvo una nota media ligeramente más alta, de __66.22__. La mínima y máxima nota es similar a la del primer examen, siendo un __30.6__ y un __98.86__, respectivamente."
   ]
  },
  {
   "cell_type": "markdown",
   "metadata": {},
   "source": [
    "---"
   ]
  },
  {
   "cell_type": "markdown",
   "metadata": {},
   "source": [
    "## Definición de la Función Sigmoidea Logística $\\sigma(z)$ <a class=\"anchor\" id=\"4\"></a>"
   ]
  },
  {
   "cell_type": "markdown",
   "metadata": {},
   "source": [
    "$$ \\sigma(z) = \\frac{1}{1+e^{-z}}$$"
   ]
  },
  {
   "cell_type": "markdown",
   "metadata": {},
   "source": [
    "La __función sigmoide__ permite describir la evolución de procesos naturales y curvas de aprendizaje y es modelada por la __función logística__. \n",
    "\n",
    "Esta evolución experimenta un crecimiento exponencial en su inicio. En un periodo 𝑧 determinado y debido a 'cuellos de botella' por la competencia entre algunos miembros del conjunto 𝜎, este crecimiento se ve reducido hasta alcanzar finalmente la madurez y detenerse. \n",
    "\n",
    "Esta evolución está representada en la siguiente figura:"
   ]
  },
  {
   "cell_type": "markdown",
   "metadata": {},
   "source": [
    "<img src='../data/curva_logistica.png' width = '600' height = 300>"
   ]
  },
  {
   "cell_type": "markdown",
   "metadata": {},
   "source": [
    "Figura 1. "
   ]
  },
  {
   "cell_type": "markdown",
   "metadata": {},
   "source": [
    "    "
   ]
  },
  {
   "cell_type": "markdown",
   "metadata": {},
   "source": [
    "Siendo el eje horizontal 𝑧 y el vertical el _resultado de la función logística_, acotado entre 0 y 1. \n",
    "\n",
    "Se define $ \\sigma(z) = \\frac{1}{1+e^{-z}}$ como _logistic_function_ para crear un gráfico que devuelva $ \\sigma(z) $ para todo 𝑧, de -10 hasta 10 (eje de las _x_)."
   ]
  },
  {
   "cell_type": "code",
   "execution_count": 12,
   "metadata": {},
   "outputs": [],
   "source": [
    "def logistic_function(z):\n",
    "    return 1/ (1 + np.exp(-z))"
   ]
  },
  {
   "cell_type": "code",
   "execution_count": 13,
   "metadata": {
    "scrolled": false
   },
   "outputs": [
    {
     "data": {
      "image/png": "[encoded data removed]",
      "text/plain": [
       "<Figure size 432x288 with 1 Axes>"
      ]
     },
     "metadata": {},
     "output_type": "display_data"
    }
   ],
   "source": [
    "z = np.arange(-10., 10.)\n",
    "𝜎 = logistic_function(z)\n",
    "plt.plot(z,𝜎)\n",
    "plt.show( )"
   ]
  },
  {
   "cell_type": "markdown",
   "metadata": {},
   "source": [
    "Como se puede apreciar, es análogo a la figura 1. Además, se puede comprobar el resultado numérico de la función logística en función de 𝑧. \n",
    "\n",
    "Para ejemplificar, se comprueba que 𝜎(0) = 0.5 y 𝜎(1.25) = 0.77."
   ]
  },
  {
   "cell_type": "code",
   "execution_count": 14,
   "metadata": {},
   "outputs": [
    {
     "data": {
      "text/plain": [
       "0.5"
      ]
     },
     "execution_count": 14,
     "metadata": {},
     "output_type": "execute_result"
    }
   ],
   "source": [
    "logistic_function(0)"
   ]
  },
  {
   "cell_type": "code",
   "execution_count": 15,
   "metadata": {},
   "outputs": [
    {
     "data": {
      "text/plain": [
       "0.7772998611746911"
      ]
     },
     "execution_count": 15,
     "metadata": {},
     "output_type": "execute_result"
    }
   ],
   "source": [
    "logistic_function(1.25)"
   ]
  },
  {
   "cell_type": "markdown",
   "metadata": {},
   "source": [
    "---"
   ]
  },
  {
   "cell_type": "markdown",
   "metadata": {},
   "source": [
    "## Cálculo de la Función de Coste $J(\\theta)$ y el Gradiente <a class=\"anchor\" id=\"5\"></a>"
   ]
  },
  {
   "cell_type": "markdown",
   "metadata": {},
   "source": [
    "Como se ha explicado en el apartado [Objetivo](#1), la finalidad es minimizar la Función de Coste $J(\\theta)$, \n",
    "\n",
    "siendo $$J(\\theta) = -\\frac{1}{n} \\sum_{i=1}^{n} [ y^{(i)}log(h_{\\theta}(x^{(i)})) + (1 - y^{(i)})log(1 - (h_{\\theta}(x^{(i)}))]$$\n",
    "\n",
    "donde el gradiente de dicha función está dado por su derivada, $$ \\frac{\\partial J(\\theta)}{\\partial \\theta_j} = \\frac{1}{n} \\sum_{i=1}^{n} (h_{\\theta}(x^{(i)}) - y^{(i)})x_j^{(i)}$$\n",
    "\n",
    "$h_{\\theta}$ es igual a 𝜎 (la función logística de $z$) y $n$ es el número de observaciones.\n",
    "\n",
    "La Función de Coste evalúa el rendimiento del modelo en los datos de entrenamiento dado un conjunto de parámetros del modelo: 𝜃, $x$ e $y$."
   ]
  },
  {
   "cell_type": "markdown",
   "metadata": {},
   "source": [
    "Se define por tanto dicha función: \n",
    "- $n$ será el número de observaciones\n",
    "- $h$ será el resultado de aplicar _logistic_function_ dados una $x$ y una 𝜃 determinados, devolviendo el producto escalar de los arrays de la función logística en función de un parámetro $x$ y un parámetro $\\theta$.\n",
    "- _error_ será el resultado de $y^{(i)}log(h_{\\theta}(x^{(i)})) + (1 - y^{(i)})log(1 - (h_{\\theta}(x^{(i)}))$\n",
    "- _cost_ será el resultado de $J(\\theta)$\n",
    "- _gradient_ será el resultado de $ \\frac{\\partial J(\\theta)}{\\partial \\theta_j}$"
   ]
  },
  {
   "cell_type": "code",
   "execution_count": 16,
   "metadata": {},
   "outputs": [],
   "source": [
    "def fcost(theta, x, y):\n",
    "    n = len(y)\n",
    "    h = logistic_function(np.dot(x , theta))\n",
    "    error = (y * np.log(h)) + ((1 - y) * np.log(1 - h))\n",
    "    cost = -1 / n * sum(error)\n",
    "    gradient = 1 / n * np.dot(x.transpose(), (h - y))\n",
    "    return cost[0] , gradient"
   ]
  },
  {
   "cell_type": "markdown",
   "metadata": {},
   "source": [
    "Como output de la función definida se obtiene el coste y el gradiente. "
   ]
  },
  {
   "cell_type": "markdown",
   "metadata": {},
   "source": [
    "---"
   ]
  },
  {
   "cell_type": "markdown",
   "metadata": {},
   "source": [
    "## Coste y Gradiente en el Inicio <a class=\"anchor\" id=\"6\"></a>\n",
    "\n",
    "Con cada paso del descenso del gradiente, los parámetros se acercan a los valores óptimos que lograrán el menor coste. En este apartado se calcularán los valores que toman en el momento en el que $z$ = 0, el Coste y el Gradiente.\n",
    "\n",
    "Para ello, el primer paso será estandarizar el valor de la puntuación de los exámenes. Esto se conseguirá creando el array _scores_, que recogerá todas las puntuaciones de los dos exámenes."
   ]
  },
  {
   "cell_type": "code",
   "execution_count": 17,
   "metadata": {},
   "outputs": [],
   "source": [
    "scores = data[['score1', 'score2']].values"
   ]
  },
  {
   "cell_type": "markdown",
   "metadata": {},
   "source": [
    "Una vez está creado el array se puede obtener a partir de ahí la media y la desviación total de las puntuaciones, para obtener un nuevo array con los valores normalizados."
   ]
  },
  {
   "cell_type": "code",
   "execution_count": 18,
   "metadata": {},
   "outputs": [],
   "source": [
    "mean_scores = np.mean(scores, axis=0)\n",
    "std_scores = np.std(scores, axis=0)\n",
    "scores = (scores - mean_scores) / std_scores"
   ]
  },
  {
   "cell_type": "markdown",
   "metadata": {},
   "source": [
    "Además se creará otro array, que consistirá en la columna _label_, para poder trabajar con ella."
   ]
  },
  {
   "cell_type": "code",
   "execution_count": 19,
   "metadata": {},
   "outputs": [],
   "source": [
    "results = data['label'].values"
   ]
  },
  {
   "cell_type": "markdown",
   "metadata": {},
   "source": [
    "A continuación se establecerá _'rows'_ (que equivale al número de filas que hay en _scores_, 100) y _cols_, el número de columnas de _scores_, 2 (cada una es un examen)."
   ]
  },
  {
   "cell_type": "code",
   "execution_count": 20,
   "metadata": {},
   "outputs": [],
   "source": [
    "rows = scores.shape[0]\n",
    "cols = scores.shape[1]"
   ]
  },
  {
   "cell_type": "markdown",
   "metadata": {},
   "source": [
    "Posteriormente se crea _X_, un array que contiene todas las puntuaciones y además un término independiente formado unicamente por unos.\n",
    "El array _y_ es coloca los datos de _result_ de forma matricial en una sola columna y 100 filas ."
   ]
  },
  {
   "cell_type": "code",
   "execution_count": 21,
   "metadata": {},
   "outputs": [],
   "source": [
    "X = np.append(np.ones((rows, 1)), scores, axis=1)\n",
    "y = results.reshape(rows, 1)"
   ]
  },
  {
   "cell_type": "markdown",
   "metadata": {},
   "source": [
    "Finalmente se prueba la Función de Coste _cost_ para comprobar que funciona. Los parámetros de _theta_in_ serán los iniciales. Así se obtentrá a raiz de la Función de Coste el coste y el gradiente."
   ]
  },
  {
   "cell_type": "code",
   "execution_count": 22,
   "metadata": {
    "scrolled": true
   },
   "outputs": [
    {
     "name": "stdout",
     "output_type": "stream",
     "text": [
      "Cost at initialization 0.693147180559946\n",
      "Gradient at initialization: [[-0.1       ]\n",
      " [-0.28122914]\n",
      " [-0.25098615]]\n"
     ]
    }
   ],
   "source": [
    "theta_in = np.zeros((cols + 1, 1))\n",
    "cost, gradient = fcost(theta_in, X, y)\n",
    "\n",
    "print(\"Cost at initialization\", cost)\n",
    "print(\"Gradient at initialization:\", gradient)"
   ]
  },
  {
   "cell_type": "markdown",
   "metadata": {},
   "source": [
    "---"
   ]
  },
  {
   "cell_type": "markdown",
   "metadata": {},
   "source": [
    "## Descenso del Gradiente <a class=\"anchor\" id=\"7\"></a>\n",
    "\n",
    "Minimizar la Función de Coste $J(\\theta)$ actualizando (a la vez $\\theta_j$  para todo $j$) la siguiente ecuación y repitiendo hasta la convergencia  $\\theta_j: = \\theta_j - \\alpha \\frac{\\partial J(\\theta)}{\\partial \\theta_j}$ "
   ]
  },
  {
   "cell_type": "markdown",
   "metadata": {},
   "source": [
    "Se definirá por tanto una función, _gradient_descent_ que irá iterando '_cost_' y '_gradient_' _iterations_ veces, con una tasa de aprendizaje  $\\alpha$.  Así se minimizará la función a medida que se desciende por el gradiente."
   ]
  },
  {
   "cell_type": "code",
   "execution_count": 23,
   "metadata": {},
   "outputs": [],
   "source": [
    "def gradient_descent(x, y, theta, alpha, iterations):\n",
    "    costs = []\n",
    "    for i in range(iterations):\n",
    "        cost, gradient = fcost(theta, x, y)\n",
    "        theta -= (alpha * gradient)\n",
    "        costs.append(cost)\n",
    "    return theta, costs"
   ]
  },
  {
   "cell_type": "markdown",
   "metadata": {},
   "source": [
    "Definiendo las iteraciones y la tasa de aprendizaje se obtiene el coste  y el valor de 𝜃 finales. "
   ]
  },
  {
   "cell_type": "code",
   "execution_count": 24,
   "metadata": {},
   "outputs": [],
   "source": [
    "theta, costs = gradient_descent(X, y, theta_in, 0.5, 500)\n"
   ]
  },
  {
   "cell_type": "code",
   "execution_count": 25,
   "metadata": {
    "scrolled": true
   },
   "outputs": [
    {
     "name": "stdout",
     "output_type": "stream",
     "text": [
      "Theta after running gradient descent: [[1.56670253]\n",
      " [3.67000402]\n",
      " [3.41287918]]\n",
      "Resulting cost: 0.20420253194667168\n"
     ]
    }
   ],
   "source": [
    "print(\"Theta after running gradient descent:\", theta)\n",
    "print(\"Resulting cost:\", costs[-1])"
   ]
  },
  {
   "cell_type": "markdown",
   "metadata": {},
   "source": [
    "Obtetiendo un coste de 0.203. Graficando la convergencia de 𝐽(𝜃) se obtiene la gráfica siguiente:"
   ]
  },
  {
   "cell_type": "code",
   "execution_count": 26,
   "metadata": {},
   "outputs": [
    {
     "data": {
      "image/png": "[encoded data removed]",
      "text/plain": [
       "<Figure size 432x288 with 1 Axes>"
      ]
     },
     "metadata": {},
     "output_type": "display_data"
    }
   ],
   "source": [
    "plt.plot(costs)\n",
    "plt.xlabel(\"Iterations\")\n",
    "plt.ylabel(\"$J(\\Theta)$\")\n",
    "plt.title(\"Values of Cost Function over iterations of Gradient Descent\");"
   ]
  },
  {
   "cell_type": "markdown",
   "metadata": {},
   "source": [
    "Se probará el descenso de gradiente con nuevos valores de alfa e iteraciones a continuación."
   ]
  },
  {
   "cell_type": "code",
   "execution_count": 27,
   "metadata": {},
   "outputs": [
    {
     "name": "stdout",
     "output_type": "stream",
     "text": [
      "Theta after running gradient descent: [[1.71668917]\n",
      " [3.98902888]\n",
      " [3.72149931]]\n",
      "Resulting cost: 0.20349779034715557\n"
     ]
    }
   ],
   "source": [
    "def gradient_descent(x, y, theta, alpha, iterations):\n",
    "    costs = []\n",
    "    for i in range(iterations):\n",
    "        cost, gradient = fcost(theta, x, y)\n",
    "        theta -= (alpha * gradient)\n",
    "        costs.append(cost)\n",
    "    return theta, costs\n",
    "\n",
    "theta, costs = gradient_descent(X, y, theta_in, 0.5, 1500)\n",
    "\n",
    "print(\"Theta after running gradient descent:\", theta)\n",
    "print(\"Resulting cost:\", costs[-1])"
   ]
  },
  {
   "cell_type": "code",
   "execution_count": 28,
   "metadata": {},
   "outputs": [
    {
     "data": {
      "image/png": "[encoded data removed]",
      "text/plain": [
       "<Figure size 432x288 with 1 Axes>"
      ]
     },
     "metadata": {},
     "output_type": "display_data"
    }
   ],
   "source": [
    "plt.plot(costs)\n",
    "plt.xlabel(\"Iterations\")\n",
    "plt.ylabel(\"$J(\\Theta)$\")\n",
    "plt.title(\"Values of Cost Function over iterations of Gradient Descent\");"
   ]
  },
  {
   "cell_type": "code",
   "execution_count": 29,
   "metadata": {},
   "outputs": [
    {
     "name": "stdout",
     "output_type": "stream",
     "text": [
      "Theta after running gradient descent: [[1.71832007]\n",
      " [3.99251125]\n",
      " [3.72486909]]\n",
      "Resulting cost: 0.2034977020780693\n"
     ]
    }
   ],
   "source": [
    "def gradient_descent(x, y, theta, alpha, iterations):\n",
    "    costs = []\n",
    "    for i in range(iterations):\n",
    "        cost, gradient = fcost(theta, x, y)\n",
    "        theta -= (alpha * gradient)\n",
    "        costs.append(cost)\n",
    "    return theta, costs\n",
    "\n",
    "theta, costs = gradient_descent(X, y, theta_in, 0.5, 900)\n",
    "\n",
    "print(\"Theta after running gradient descent:\", theta)\n",
    "print(\"Resulting cost:\", costs[-1])"
   ]
  },
  {
   "cell_type": "code",
   "execution_count": 30,
   "metadata": {},
   "outputs": [
    {
     "data": {
      "image/png": "[encoded data removed]",
      "text/plain": [
       "<Figure size 432x288 with 1 Axes>"
      ]
     },
     "metadata": {},
     "output_type": "display_data"
    }
   ],
   "source": [
    "plt.plot(costs)\n",
    "plt.xlabel(\"Iterations\")\n",
    "plt.ylabel(\"$J(\\Theta)$\")\n",
    "plt.title(\"Values of Cost Function over iterations of Gradient Descent\");"
   ]
  },
  {
   "cell_type": "markdown",
   "metadata": {},
   "source": [
    "https://stackoverflow.com/questions/46783913/seaborn-is-not-setting-its-default-color-palette-on-import\n",
    "\n",
    "https://stackoverflow.com/questions/49554139/boxplot-of-multiple-columns-of-a-pandas-dataframe-on-the-same-figure-seaborn\n",
    "\n",
    "https://es.wikipedia.org/wiki/Funci%C3%B3n_log%C3%ADstica\n",
    "\n",
    "https://www.analyticslane.com/2018/12/21/implementacion-del-metodo-descenso-del-gradiente-en-python/#:~:text=El%20m%C3%A9todo%20del%20descenso%20del,en%20el%20conjunto%20de%20datos.\n",
    "\n",
    "https://towardsdatascience.com/gradient-descent-in-python-a0d07285742f\n",
    "\n",
    "https://towardsdatascience.com/implement-gradient-descent-in-python-9b93ed7108d1\n",
    "\n",
    "https://www.iartificial.net/gradiente-descendiente-para-aprendizaje-automatico/#Funcion_de_Coste"
   ]
  }
 ],
 "metadata": {
  "kernelspec": {
   "display_name": "Gradiente",
   "language": "python",
   "name": "grad_env"
  },
  "language_info": {
   "codemirror_mode": {
    "name": "ipython",
    "version": 3
   },
   "file_extension": ".py",
   "mimetype": "text/x-python",
   "name": "python",
   "nbconvert_exporter": "python",
   "pygments_lexer": "ipython3",
   "version": "3.8.5"
  }
 },
 "nbformat": 4,
 "nbformat_minor": 4
}
