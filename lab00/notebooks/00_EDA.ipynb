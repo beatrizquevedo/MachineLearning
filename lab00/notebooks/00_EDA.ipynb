{
 "cells": [
  {
   "cell_type": "markdown",
   "metadata": {},
   "source": [
    "# TOP CANCIONES EN SPOTIFY"
   ]
  },
  {
   "cell_type": "markdown",
   "metadata": {},
   "source": [
    "### Exploratory Data Analysis\n",
    "\n",
    "En este trabajo se realizará un análisis exploratorio de datos de un DataFrame. Primero se descibirá el DataFrame y se tratarán los datos si resulta necesario. Se continuará con un Análisis Univariante y Bivariante, para finalmente exponer las conclusiones obtenidas del análisis."
   ]
  },
  {
   "cell_type": "markdown",
   "metadata": {},
   "source": [
    "Intro"
   ]
  },
  {
   "cell_type": "code",
   "execution_count": 1,
   "metadata": {},
   "outputs": [],
   "source": [
    "import pandas as pd\n",
    "import numpy as np\n",
    "import matplotlib.pyplot as plt\n",
    "import seaborn as sns\n",
    "import scipy.stats as ss"
   ]
  },
  {
   "cell_type": "markdown",
   "metadata": {},
   "source": [
    "## 1. Descripción y tratamiento inicial de los datos\n",
    "\n",
    "Los datos son obtenidos del archivo [./top10s.xls](./top10s.xls). Se trata de un DataFrame (en adelante DF) de 602 observaciones, procedentes de las canciones que han alcanzado el _top_ de Spotify (las más populares) y 15 variables."
   ]
  },
  {
   "cell_type": "code",
   "execution_count": 2,
   "metadata": {},
   "outputs": [
    {
     "data": {
      "text/html": [
       "<div>\n",
       "<style scoped>\n",
       "    .dataframe tbody tr th:only-of-type {\n",
       "        vertical-align: middle;\n",
       "    }\n",
       "\n",
       "    .dataframe tbody tr th {\n",
       "        vertical-align: top;\n",
       "    }\n",
       "\n",
       "    .dataframe thead th {\n",
       "        text-align: right;\n",
       "    }\n",
       "</style>\n",
       "<table border=\"1\" class=\"dataframe\">\n",
       "  <thead>\n",
       "    <tr style=\"text-align: right;\">\n",
       "      <th></th>\n",
       "      <th>id</th>\n",
       "      <th>title</th>\n",
       "      <th>artist</th>\n",
       "      <th>top genre</th>\n",
       "      <th>year</th>\n",
       "      <th>bpm</th>\n",
       "      <th>nrgy</th>\n",
       "      <th>dnce</th>\n",
       "      <th>dB</th>\n",
       "      <th>live</th>\n",
       "      <th>val</th>\n",
       "      <th>dur</th>\n",
       "      <th>acous</th>\n",
       "      <th>spch</th>\n",
       "      <th>pop</th>\n",
       "    </tr>\n",
       "  </thead>\n",
       "  <tbody>\n",
       "    <tr>\n",
       "      <th>0</th>\n",
       "      <td>1</td>\n",
       "      <td>Hey Soul Sister</td>\n",
       "      <td>Train</td>\n",
       "      <td>neo mellow</td>\n",
       "      <td>2010</td>\n",
       "      <td>97</td>\n",
       "      <td>89</td>\n",
       "      <td>67</td>\n",
       "      <td>-4</td>\n",
       "      <td>8</td>\n",
       "      <td>80</td>\n",
       "      <td>217</td>\n",
       "      <td>19</td>\n",
       "      <td>4</td>\n",
       "      <td>83</td>\n",
       "    </tr>\n",
       "    <tr>\n",
       "      <th>1</th>\n",
       "      <td>2</td>\n",
       "      <td>Love The Way You Lie</td>\n",
       "      <td>Eminem</td>\n",
       "      <td>detroit hip hop</td>\n",
       "      <td>2010</td>\n",
       "      <td>87</td>\n",
       "      <td>93</td>\n",
       "      <td>75</td>\n",
       "      <td>-5</td>\n",
       "      <td>52</td>\n",
       "      <td>64</td>\n",
       "      <td>263</td>\n",
       "      <td>24</td>\n",
       "      <td>23</td>\n",
       "      <td>82</td>\n",
       "    </tr>\n",
       "    <tr>\n",
       "      <th>2</th>\n",
       "      <td>3</td>\n",
       "      <td>TiK ToK</td>\n",
       "      <td>Kesha</td>\n",
       "      <td>dance pop</td>\n",
       "      <td>2010</td>\n",
       "      <td>120</td>\n",
       "      <td>84</td>\n",
       "      <td>76</td>\n",
       "      <td>-3</td>\n",
       "      <td>29</td>\n",
       "      <td>71</td>\n",
       "      <td>200</td>\n",
       "      <td>10</td>\n",
       "      <td>14</td>\n",
       "      <td>80</td>\n",
       "    </tr>\n",
       "    <tr>\n",
       "      <th>3</th>\n",
       "      <td>4</td>\n",
       "      <td>Bad Romance</td>\n",
       "      <td>Lady Gaga</td>\n",
       "      <td>dance pop</td>\n",
       "      <td>2010</td>\n",
       "      <td>119</td>\n",
       "      <td>92</td>\n",
       "      <td>70</td>\n",
       "      <td>-4</td>\n",
       "      <td>8</td>\n",
       "      <td>71</td>\n",
       "      <td>295</td>\n",
       "      <td>0</td>\n",
       "      <td>4</td>\n",
       "      <td>79</td>\n",
       "    </tr>\n",
       "    <tr>\n",
       "      <th>4</th>\n",
       "      <td>5</td>\n",
       "      <td>Just the Way You Are</td>\n",
       "      <td>Bruno Mars</td>\n",
       "      <td>pop</td>\n",
       "      <td>2010</td>\n",
       "      <td>109</td>\n",
       "      <td>84</td>\n",
       "      <td>64</td>\n",
       "      <td>-5</td>\n",
       "      <td>9</td>\n",
       "      <td>43</td>\n",
       "      <td>221</td>\n",
       "      <td>2</td>\n",
       "      <td>4</td>\n",
       "      <td>78</td>\n",
       "    </tr>\n",
       "    <tr>\n",
       "      <th>...</th>\n",
       "      <td>...</td>\n",
       "      <td>...</td>\n",
       "      <td>...</td>\n",
       "      <td>...</td>\n",
       "      <td>...</td>\n",
       "      <td>...</td>\n",
       "      <td>...</td>\n",
       "      <td>...</td>\n",
       "      <td>...</td>\n",
       "      <td>...</td>\n",
       "      <td>...</td>\n",
       "      <td>...</td>\n",
       "      <td>...</td>\n",
       "      <td>...</td>\n",
       "      <td>...</td>\n",
       "    </tr>\n",
       "    <tr>\n",
       "      <th>597</th>\n",
       "      <td>599</td>\n",
       "      <td>Find U Again (feat. Camila Cabello)</td>\n",
       "      <td>Mark Ronson</td>\n",
       "      <td>dance pop</td>\n",
       "      <td>2019</td>\n",
       "      <td>104</td>\n",
       "      <td>66</td>\n",
       "      <td>61</td>\n",
       "      <td>-7</td>\n",
       "      <td>20</td>\n",
       "      <td>16</td>\n",
       "      <td>176</td>\n",
       "      <td>1</td>\n",
       "      <td>3</td>\n",
       "      <td>75</td>\n",
       "    </tr>\n",
       "    <tr>\n",
       "      <th>598</th>\n",
       "      <td>600</td>\n",
       "      <td>Cross Me (feat. Chance the Rapper &amp; PnB Rock)</td>\n",
       "      <td>Ed Sheeran</td>\n",
       "      <td>pop</td>\n",
       "      <td>2019</td>\n",
       "      <td>95</td>\n",
       "      <td>79</td>\n",
       "      <td>75</td>\n",
       "      <td>-6</td>\n",
       "      <td>7</td>\n",
       "      <td>61</td>\n",
       "      <td>206</td>\n",
       "      <td>21</td>\n",
       "      <td>12</td>\n",
       "      <td>75</td>\n",
       "    </tr>\n",
       "    <tr>\n",
       "      <th>599</th>\n",
       "      <td>601</td>\n",
       "      <td>No Brainer (feat. Justin Bieber, Chance the Ra...</td>\n",
       "      <td>DJ Khaled</td>\n",
       "      <td>dance pop</td>\n",
       "      <td>2019</td>\n",
       "      <td>136</td>\n",
       "      <td>76</td>\n",
       "      <td>53</td>\n",
       "      <td>-5</td>\n",
       "      <td>9</td>\n",
       "      <td>65</td>\n",
       "      <td>260</td>\n",
       "      <td>7</td>\n",
       "      <td>34</td>\n",
       "      <td>70</td>\n",
       "    </tr>\n",
       "    <tr>\n",
       "      <th>600</th>\n",
       "      <td>602</td>\n",
       "      <td>Nothing Breaks Like a Heart (feat. Miley Cyrus)</td>\n",
       "      <td>Mark Ronson</td>\n",
       "      <td>dance pop</td>\n",
       "      <td>2019</td>\n",
       "      <td>114</td>\n",
       "      <td>79</td>\n",
       "      <td>60</td>\n",
       "      <td>-6</td>\n",
       "      <td>42</td>\n",
       "      <td>24</td>\n",
       "      <td>217</td>\n",
       "      <td>1</td>\n",
       "      <td>7</td>\n",
       "      <td>69</td>\n",
       "    </tr>\n",
       "    <tr>\n",
       "      <th>601</th>\n",
       "      <td>603</td>\n",
       "      <td>Kills You Slowly</td>\n",
       "      <td>The Chainsmokers</td>\n",
       "      <td>electropop</td>\n",
       "      <td>2019</td>\n",
       "      <td>150</td>\n",
       "      <td>44</td>\n",
       "      <td>70</td>\n",
       "      <td>-9</td>\n",
       "      <td>13</td>\n",
       "      <td>23</td>\n",
       "      <td>213</td>\n",
       "      <td>6</td>\n",
       "      <td>6</td>\n",
       "      <td>67</td>\n",
       "    </tr>\n",
       "  </tbody>\n",
       "</table>\n",
       "<p>602 rows × 15 columns</p>\n",
       "</div>"
      ],
      "text/plain": [
       "      id                                              title            artist  \\\n",
       "0      1                                    Hey Soul Sister             Train   \n",
       "1      2                               Love The Way You Lie            Eminem   \n",
       "2      3                                            TiK ToK             Kesha   \n",
       "3      4                                        Bad Romance         Lady Gaga   \n",
       "4      5                               Just the Way You Are        Bruno Mars   \n",
       "..   ...                                                ...               ...   \n",
       "597  599                Find U Again (feat. Camila Cabello)       Mark Ronson   \n",
       "598  600      Cross Me (feat. Chance the Rapper & PnB Rock)        Ed Sheeran   \n",
       "599  601  No Brainer (feat. Justin Bieber, Chance the Ra...         DJ Khaled   \n",
       "600  602    Nothing Breaks Like a Heart (feat. Miley Cyrus)       Mark Ronson   \n",
       "601  603                                   Kills You Slowly  The Chainsmokers   \n",
       "\n",
       "           top genre  year  bpm  nrgy  dnce  dB  live  val  dur  acous  spch  \\\n",
       "0         neo mellow  2010   97    89    67  -4     8   80  217     19     4   \n",
       "1    detroit hip hop  2010   87    93    75  -5    52   64  263     24    23   \n",
       "2          dance pop  2010  120    84    76  -3    29   71  200     10    14   \n",
       "3          dance pop  2010  119    92    70  -4     8   71  295      0     4   \n",
       "4                pop  2010  109    84    64  -5     9   43  221      2     4   \n",
       "..               ...   ...  ...   ...   ...  ..   ...  ...  ...    ...   ...   \n",
       "597        dance pop  2019  104    66    61  -7    20   16  176      1     3   \n",
       "598              pop  2019   95    79    75  -6     7   61  206     21    12   \n",
       "599        dance pop  2019  136    76    53  -5     9   65  260      7    34   \n",
       "600        dance pop  2019  114    79    60  -6    42   24  217      1     7   \n",
       "601       electropop  2019  150    44    70  -9    13   23  213      6     6   \n",
       "\n",
       "     pop  \n",
       "0     83  \n",
       "1     82  \n",
       "2     80  \n",
       "3     79  \n",
       "4     78  \n",
       "..   ...  \n",
       "597   75  \n",
       "598   75  \n",
       "599   70  \n",
       "600   69  \n",
       "601   67  \n",
       "\n",
       "[602 rows x 15 columns]"
      ]
     },
     "execution_count": 2,
     "metadata": {},
     "output_type": "execute_result"
    }
   ],
   "source": [
    "top = pd.read_excel('../data/top10s.xls')\n",
    "top"
   ]
  },
  {
   "cell_type": "code",
   "execution_count": 3,
   "metadata": {},
   "outputs": [
    {
     "data": {
      "text/plain": [
       "id           False\n",
       "title        False\n",
       "artist       False\n",
       "top genre    False\n",
       "year         False\n",
       "bpm          False\n",
       "nrgy         False\n",
       "dnce         False\n",
       "dB           False\n",
       "live         False\n",
       "val          False\n",
       "dur          False\n",
       "acous        False\n",
       "spch         False\n",
       "pop          False\n",
       "dtype: bool"
      ]
     },
     "execution_count": 3,
     "metadata": {},
     "output_type": "execute_result"
    }
   ],
   "source": [
    "top.isnull().any()"
   ]
  },
  {
   "cell_type": "markdown",
   "metadata": {},
   "source": [
    "Se comprueba y confirma que no hay ningun valor nulo en el DF, pero en el caso de haberlos habido se deberían de haber borrado para no entorpecer los análisis."
   ]
  },
  {
   "cell_type": "markdown",
   "metadata": {},
   "source": [
    "Como se ha comentado previamente, el DF contiene las canciones más famosas por año en Spotify, desde 2010 a 2019."
   ]
  },
  {
   "cell_type": "code",
   "execution_count": 4,
   "metadata": {},
   "outputs": [
    {
     "data": {
      "text/plain": [
       "(602, 15)"
      ]
     },
     "execution_count": 4,
     "metadata": {},
     "output_type": "execute_result"
    }
   ],
   "source": [
    "top.shape"
   ]
  },
  {
   "cell_type": "markdown",
   "metadata": {},
   "source": [
    "Se compone de 602 filas y 15 columnas (variables)."
   ]
  },
  {
   "cell_type": "code",
   "execution_count": 5,
   "metadata": {},
   "outputs": [
    {
     "data": {
      "text/plain": [
       "Index(['id', 'title', 'artist', 'top genre', 'year', 'bpm', 'nrgy', 'dnce',\n",
       "       'dB', 'live', 'val', 'dur', 'acous', 'spch', 'pop'],\n",
       "      dtype='object')"
      ]
     },
     "execution_count": 5,
     "metadata": {},
     "output_type": "execute_result"
    }
   ],
   "source": [
    "top.columns"
   ]
  },
  {
   "cell_type": "markdown",
   "metadata": {},
   "source": [
    "Las columnas son:\n",
    "\n",
    "* __id__\n",
    "* __title__: El título de la canción.\n",
    "* __artist__: El artista de la canción.\n",
    "* __top genre__: El género musical de la canción.\n",
    "* __year__: El año que la canción estuvo en el Top.\n",
    "* __bpm__: Los beats por minuto, es decir, el tempo de la canción.\n",
    "* __nrgy__: La energía de la canción, de 0 a 100. A mayor valor, más energética es la canción.\n",
    "* __dnce__: Cómo de _'bailable'_ es la canción, de 0 a 100. A mayor valor, más _'bailable'_ es la canción.\n",
    "* __dB__: Los decibelios de la canción, es decir, el volumen.\n",
    "* __live__: A mayor valor, más probable es que la canción fuese grabada en directo\n",
    "* __val__: El ánimo de la canción, de 0 a 100. A mayor valor, más positiva es la canción.\n",
    "* __dur__: La duración de la canción.\n",
    "* __acous__: Cómo de acústica es la canción, de 0 a 100. A mayor valor, más acústica es la canción.\n",
    "* __spch__: Cuanto mayor es el valor de esta variable, más palabras contiene la canción.\n",
    "* __pop__: Popularidad de la canción, de 0 a 100. A mayor valor, más popular es la canción."
   ]
  },
  {
   "cell_type": "code",
   "execution_count": 6,
   "metadata": {},
   "outputs": [
    {
     "name": "stdout",
     "output_type": "stream",
     "text": [
      "<class 'pandas.core.frame.DataFrame'>\n",
      "RangeIndex: 602 entries, 0 to 601\n",
      "Data columns (total 15 columns):\n",
      " #   Column     Non-Null Count  Dtype \n",
      "---  ------     --------------  ----- \n",
      " 0   id         602 non-null    int64 \n",
      " 1   title      602 non-null    object\n",
      " 2   artist     602 non-null    object\n",
      " 3   top genre  602 non-null    object\n",
      " 4   year       602 non-null    int64 \n",
      " 5   bpm        602 non-null    int64 \n",
      " 6   nrgy       602 non-null    int64 \n",
      " 7   dnce       602 non-null    int64 \n",
      " 8   dB         602 non-null    int64 \n",
      " 9   live       602 non-null    int64 \n",
      " 10  val        602 non-null    int64 \n",
      " 11  dur        602 non-null    int64 \n",
      " 12  acous      602 non-null    int64 \n",
      " 13  spch       602 non-null    int64 \n",
      " 14  pop        602 non-null    int64 \n",
      "dtypes: int64(12), object(3)\n",
      "memory usage: 70.7+ KB\n"
     ]
    }
   ],
   "source": [
    "top.info()"
   ]
  },
  {
   "cell_type": "markdown",
   "metadata": {},
   "source": [
    "El DF cuenta por tanto con tres variables cualitativas nominales (el título, el artista y el género) y 11 variables cuantitativas, y una variable ID que unicamente identifica las canciones."
   ]
  },
  {
   "cell_type": "markdown",
   "metadata": {},
   "source": [
    "## 2. Análisis Univariante\n",
    "\n",
    "Se realiza un análisis univariante para conocer el comportamiento individual de cada variable, saber cómo son las variables del estudio y si servirán para unos análisis u otros. \n",
    "\n",
    "Primero se realizará un análisis con las variables cualitativas: título, artista y género."
   ]
  },
  {
   "cell_type": "markdown",
   "metadata": {},
   "source": [
    "## ARTISTA\n",
    "\n",
    "Hay un total de 184 artistas en el DF:"
   ]
  },
  {
   "cell_type": "code",
   "execution_count": 7,
   "metadata": {},
   "outputs": [
    {
     "data": {
      "text/plain": [
       "184"
      ]
     },
     "execution_count": 7,
     "metadata": {},
     "output_type": "execute_result"
    }
   ],
   "source": [
    "top['artist'].nunique()"
   ]
  },
  {
   "cell_type": "code",
   "execution_count": 8,
   "metadata": {
    "scrolled": true
   },
   "outputs": [
    {
     "data": {
      "text/html": [
       "<div>\n",
       "<style scoped>\n",
       "    .dataframe tbody tr th:only-of-type {\n",
       "        vertical-align: middle;\n",
       "    }\n",
       "\n",
       "    .dataframe tbody tr th {\n",
       "        vertical-align: top;\n",
       "    }\n",
       "\n",
       "    .dataframe thead th {\n",
       "        text-align: right;\n",
       "    }\n",
       "</style>\n",
       "<table border=\"1\" class=\"dataframe\">\n",
       "  <thead>\n",
       "    <tr style=\"text-align: right;\">\n",
       "      <th></th>\n",
       "      <th>artist</th>\n",
       "      <th>Artista</th>\n",
       "    </tr>\n",
       "  </thead>\n",
       "  <tbody>\n",
       "    <tr>\n",
       "      <th>86</th>\n",
       "      <td>Katy Perry</td>\n",
       "      <td>17</td>\n",
       "    </tr>\n",
       "    <tr>\n",
       "      <th>83</th>\n",
       "      <td>Justin Bieber</td>\n",
       "      <td>16</td>\n",
       "    </tr>\n",
       "    <tr>\n",
       "      <th>114</th>\n",
       "      <td>Maroon 5</td>\n",
       "      <td>15</td>\n",
       "    </tr>\n",
       "    <tr>\n",
       "      <th>145</th>\n",
       "      <td>Rihanna</td>\n",
       "      <td>15</td>\n",
       "    </tr>\n",
       "    <tr>\n",
       "      <th>94</th>\n",
       "      <td>Lady Gaga</td>\n",
       "      <td>14</td>\n",
       "    </tr>\n",
       "    <tr>\n",
       "      <th>...</th>\n",
       "      <td>...</td>\n",
       "      <td>...</td>\n",
       "    </tr>\n",
       "    <tr>\n",
       "      <th>81</th>\n",
       "      <td>Jonas Blue</td>\n",
       "      <td>1</td>\n",
       "    </tr>\n",
       "    <tr>\n",
       "      <th>80</th>\n",
       "      <td>John Newman</td>\n",
       "      <td>1</td>\n",
       "    </tr>\n",
       "    <tr>\n",
       "      <th>78</th>\n",
       "      <td>Joey Montana</td>\n",
       "      <td>1</td>\n",
       "    </tr>\n",
       "    <tr>\n",
       "      <th>77</th>\n",
       "      <td>Jewel</td>\n",
       "      <td>1</td>\n",
       "    </tr>\n",
       "    <tr>\n",
       "      <th>183</th>\n",
       "      <td>will.i.am</td>\n",
       "      <td>1</td>\n",
       "    </tr>\n",
       "  </tbody>\n",
       "</table>\n",
       "<p>184 rows × 2 columns</p>\n",
       "</div>"
      ],
      "text/plain": [
       "            artist  Artista\n",
       "86      Katy Perry       17\n",
       "83   Justin Bieber       16\n",
       "114       Maroon 5       15\n",
       "145        Rihanna       15\n",
       "94       Lady Gaga       14\n",
       "..             ...      ...\n",
       "81      Jonas Blue        1\n",
       "80     John Newman        1\n",
       "78    Joey Montana        1\n",
       "77           Jewel        1\n",
       "183      will.i.am        1\n",
       "\n",
       "[184 rows x 2 columns]"
      ]
     },
     "execution_count": 8,
     "metadata": {},
     "output_type": "execute_result"
    }
   ],
   "source": [
    "artistas = top.groupby(['artist']).size().reset_index(name = 'Artista').sort_values('Artista',ascending=False)\n",
    "artistas"
   ]
  },
  {
   "cell_type": "markdown",
   "metadata": {},
   "source": [
    "De estos 184 artistas, Katy Perry es la que más canciones tiene el top desde 2010 a 2019. Es seguida por Justin Bieber, Marroon 5 y Rihanna."
   ]
  },
  {
   "cell_type": "code",
   "execution_count": 9,
   "metadata": {},
   "outputs": [
    {
     "data": {
      "text/plain": [
       "<matplotlib.axes._subplots.AxesSubplot at 0x7fb5513d6b20>"
      ]
     },
     "execution_count": 9,
     "metadata": {},
     "output_type": "execute_result"
    },
    {
     "data": {
      "image/png": "[encoded data removed]",
      "text/plain": [
       "<Figure size 432x288 with 1 Axes>"
      ]
     },
     "metadata": {
      "needs_background": "light"
     },
     "output_type": "display_data"
    }
   ],
   "source": [
    "top['artist'].value_counts().head(12).plot.bar()"
   ]
  },
  {
   "cell_type": "markdown",
   "metadata": {},
   "source": [
    "## GÉNERO\n"
   ]
  },
  {
   "cell_type": "markdown",
   "metadata": {},
   "source": [
    "Los cinco géneros que más aparecen en las canciones más famosas de 2010 a 2019 son dance pop, pop, pop canadiense, las _'boy bands'_ y pop de Barbados. Destaca enormemente el dance pop con un total de 327 registros, es decir, más de la mitad de las canciones del DF son de este género musical. \n",
    "\n",
    "Adicionalmente, se puede comprobar cómo durante este periodo, la mayoría de las canciones (483, un 80,2%) pertenecen a algún subgénero del pop."
   ]
  },
  {
   "cell_type": "code",
   "execution_count": 10,
   "metadata": {
    "scrolled": true
   },
   "outputs": [
    {
     "data": {
      "text/plain": [
       "dance pop        327\n",
       "pop               59\n",
       "canadian pop      34\n",
       "boy band          15\n",
       "barbadian pop     15\n",
       "Name: top genre, dtype: int64"
      ]
     },
     "execution_count": 10,
     "metadata": {},
     "output_type": "execute_result"
    }
   ],
   "source": [
    "top['top genre'].value_counts().head(5)"
   ]
  },
  {
   "cell_type": "code",
   "execution_count": 11,
   "metadata": {
    "scrolled": false
   },
   "outputs": [
    {
     "data": {
      "text/plain": [
       "dance pop                    327\n",
       "pop                           59\n",
       "canadian pop                  34\n",
       "boy band                      15\n",
       "barbadian pop                 15\n",
       "electropop                    13\n",
       "british soul                  11\n",
       "big room                      10\n",
       "neo mellow                     9\n",
       "canadian contemporary r&b      9\n",
       "art pop                        8\n",
       "australian dance               6\n",
       "hip pop                        6\n",
       "complextro                     6\n",
       "australian pop                 5\n",
       "atl hip hop                    5\n",
       "edm                            5\n",
       "latin                          4\n",
       "hip hop                        4\n",
       "permanent wave                 4\n",
       "tropical house                 3\n",
       "colombian pop                  3\n",
       "detroit hip hop                2\n",
       "canadian hip hop               2\n",
       "electronic trap                2\n",
       "baroque pop                    2\n",
       "escape room                    2\n",
       "indie pop                      2\n",
       "brostep                        2\n",
       "downtempo                      2\n",
       "acoustic pop                   2\n",
       "belgian edm                    2\n",
       "candy pop                      2\n",
       "electro                        2\n",
       "folk-pop                       2\n",
       "hollywood                      1\n",
       "canadian latin                 1\n",
       "french indie pop               1\n",
       "contemporary country           1\n",
       "alternative r&b                1\n",
       "alaska indie                   1\n",
       "danish pop                     1\n",
       "chicago rap                    1\n",
       "moroccan pop                   1\n",
       "metropopolis                   1\n",
       "electro house                  1\n",
       "celtic rock                    1\n",
       "australian hip hop             1\n",
       "irish singer-songwriter        1\n",
       "house                          1\n",
       "Name: top genre, dtype: int64"
      ]
     },
     "execution_count": 11,
     "metadata": {},
     "output_type": "execute_result"
    }
   ],
   "source": [
    "top['top genre'].value_counts()"
   ]
  },
  {
   "cell_type": "markdown",
   "metadata": {},
   "source": [
    "Conla siguiente gráfica se puede ver la gran diferencia entre 'dance pop' y el resto de los 15 géneros musicales que más aparecen en el DF a lo largo de 2010 y hasta 2019."
   ]
  },
  {
   "cell_type": "code",
   "execution_count": 12,
   "metadata": {
    "scrolled": false
   },
   "outputs": [
    {
     "data": {
      "text/plain": [
       "Text(0.5, 0, 'Canciones en total')"
      ]
     },
     "execution_count": 12,
     "metadata": {},
     "output_type": "execute_result"
    },
    {
     "data": {
      "image/png": "[encoded data removed]",
      "text/plain": [
       "<Figure size 432x288 with 1 Axes>"
      ]
     },
     "metadata": {
      "needs_background": "light"
     },
     "output_type": "display_data"
    }
   ],
   "source": [
    "topgenres15 = top['top genre'].value_counts().head(15).reset_index(name = 'songs')\n",
    "\n",
    "ax = sns.barplot(x= 'songs', y='index', data=topgenres15)\n",
    "ax.set_xlabel('Canciones en total')"
   ]
  },
  {
   "cell_type": "code",
   "execution_count": 13,
   "metadata": {
    "scrolled": false
   },
   "outputs": [
    {
     "data": {
      "text/html": [
       "<div>\n",
       "<style scoped>\n",
       "    .dataframe tbody tr th:only-of-type {\n",
       "        vertical-align: middle;\n",
       "    }\n",
       "\n",
       "    .dataframe tbody tr th {\n",
       "        vertical-align: top;\n",
       "    }\n",
       "\n",
       "    .dataframe thead th {\n",
       "        text-align: right;\n",
       "    }\n",
       "</style>\n",
       "<table border=\"1\" class=\"dataframe\">\n",
       "  <thead>\n",
       "    <tr style=\"text-align: right;\">\n",
       "      <th></th>\n",
       "      <th>index</th>\n",
       "      <th>songs</th>\n",
       "    </tr>\n",
       "  </thead>\n",
       "  <tbody>\n",
       "    <tr>\n",
       "      <th>0</th>\n",
       "      <td>dance pop</td>\n",
       "      <td>327</td>\n",
       "    </tr>\n",
       "    <tr>\n",
       "      <th>1</th>\n",
       "      <td>pop</td>\n",
       "      <td>59</td>\n",
       "    </tr>\n",
       "    <tr>\n",
       "      <th>2</th>\n",
       "      <td>canadian pop</td>\n",
       "      <td>34</td>\n",
       "    </tr>\n",
       "    <tr>\n",
       "      <th>3</th>\n",
       "      <td>boy band</td>\n",
       "      <td>15</td>\n",
       "    </tr>\n",
       "    <tr>\n",
       "      <th>4</th>\n",
       "      <td>barbadian pop</td>\n",
       "      <td>15</td>\n",
       "    </tr>\n",
       "  </tbody>\n",
       "</table>\n",
       "</div>"
      ],
      "text/plain": [
       "           index  songs\n",
       "0      dance pop    327\n",
       "1            pop     59\n",
       "2   canadian pop     34\n",
       "3       boy band     15\n",
       "4  barbadian pop     15"
      ]
     },
     "execution_count": 13,
     "metadata": {},
     "output_type": "execute_result"
    }
   ],
   "source": [
    "topgenres5 = top['top genre'].value_counts().head(5).reset_index(name = 'songs')\n",
    "topgenres5"
   ]
  },
  {
   "cell_type": "markdown",
   "metadata": {},
   "source": [
    "Se crean dos DF adicionales (topgenres5 y genresfilt) para poder estudiar esta variable en análisis posteriores."
   ]
  },
  {
   "cell_type": "code",
   "execution_count": 14,
   "metadata": {},
   "outputs": [
    {
     "data": {
      "text/html": [
       "<div>\n",
       "<style scoped>\n",
       "    .dataframe tbody tr th:only-of-type {\n",
       "        vertical-align: middle;\n",
       "    }\n",
       "\n",
       "    .dataframe tbody tr th {\n",
       "        vertical-align: top;\n",
       "    }\n",
       "\n",
       "    .dataframe thead th {\n",
       "        text-align: right;\n",
       "    }\n",
       "</style>\n",
       "<table border=\"1\" class=\"dataframe\">\n",
       "  <thead>\n",
       "    <tr style=\"text-align: right;\">\n",
       "      <th></th>\n",
       "      <th>id</th>\n",
       "      <th>title</th>\n",
       "      <th>artist</th>\n",
       "      <th>top genre</th>\n",
       "      <th>year</th>\n",
       "      <th>bpm</th>\n",
       "      <th>nrgy</th>\n",
       "      <th>dnce</th>\n",
       "      <th>dB</th>\n",
       "      <th>live</th>\n",
       "      <th>val</th>\n",
       "      <th>dur</th>\n",
       "      <th>acous</th>\n",
       "      <th>spch</th>\n",
       "      <th>pop</th>\n",
       "    </tr>\n",
       "  </thead>\n",
       "  <tbody>\n",
       "    <tr>\n",
       "      <th>2</th>\n",
       "      <td>3</td>\n",
       "      <td>TiK ToK</td>\n",
       "      <td>Kesha</td>\n",
       "      <td>dance pop</td>\n",
       "      <td>2010</td>\n",
       "      <td>120</td>\n",
       "      <td>84</td>\n",
       "      <td>76</td>\n",
       "      <td>-3</td>\n",
       "      <td>29</td>\n",
       "      <td>71</td>\n",
       "      <td>200</td>\n",
       "      <td>10</td>\n",
       "      <td>14</td>\n",
       "      <td>80</td>\n",
       "    </tr>\n",
       "    <tr>\n",
       "      <th>3</th>\n",
       "      <td>4</td>\n",
       "      <td>Bad Romance</td>\n",
       "      <td>Lady Gaga</td>\n",
       "      <td>dance pop</td>\n",
       "      <td>2010</td>\n",
       "      <td>119</td>\n",
       "      <td>92</td>\n",
       "      <td>70</td>\n",
       "      <td>-4</td>\n",
       "      <td>8</td>\n",
       "      <td>71</td>\n",
       "      <td>295</td>\n",
       "      <td>0</td>\n",
       "      <td>4</td>\n",
       "      <td>79</td>\n",
       "    </tr>\n",
       "    <tr>\n",
       "      <th>4</th>\n",
       "      <td>5</td>\n",
       "      <td>Just the Way You Are</td>\n",
       "      <td>Bruno Mars</td>\n",
       "      <td>pop</td>\n",
       "      <td>2010</td>\n",
       "      <td>109</td>\n",
       "      <td>84</td>\n",
       "      <td>64</td>\n",
       "      <td>-5</td>\n",
       "      <td>9</td>\n",
       "      <td>43</td>\n",
       "      <td>221</td>\n",
       "      <td>2</td>\n",
       "      <td>4</td>\n",
       "      <td>78</td>\n",
       "    </tr>\n",
       "    <tr>\n",
       "      <th>5</th>\n",
       "      <td>6</td>\n",
       "      <td>Baby</td>\n",
       "      <td>Justin Bieber</td>\n",
       "      <td>canadian pop</td>\n",
       "      <td>2010</td>\n",
       "      <td>65</td>\n",
       "      <td>86</td>\n",
       "      <td>73</td>\n",
       "      <td>-5</td>\n",
       "      <td>11</td>\n",
       "      <td>54</td>\n",
       "      <td>214</td>\n",
       "      <td>4</td>\n",
       "      <td>14</td>\n",
       "      <td>77</td>\n",
       "    </tr>\n",
       "    <tr>\n",
       "      <th>6</th>\n",
       "      <td>7</td>\n",
       "      <td>Dynamite</td>\n",
       "      <td>Taio Cruz</td>\n",
       "      <td>dance pop</td>\n",
       "      <td>2010</td>\n",
       "      <td>120</td>\n",
       "      <td>78</td>\n",
       "      <td>75</td>\n",
       "      <td>-4</td>\n",
       "      <td>4</td>\n",
       "      <td>82</td>\n",
       "      <td>203</td>\n",
       "      <td>0</td>\n",
       "      <td>9</td>\n",
       "      <td>77</td>\n",
       "    </tr>\n",
       "    <tr>\n",
       "      <th>...</th>\n",
       "      <td>...</td>\n",
       "      <td>...</td>\n",
       "      <td>...</td>\n",
       "      <td>...</td>\n",
       "      <td>...</td>\n",
       "      <td>...</td>\n",
       "      <td>...</td>\n",
       "      <td>...</td>\n",
       "      <td>...</td>\n",
       "      <td>...</td>\n",
       "      <td>...</td>\n",
       "      <td>...</td>\n",
       "      <td>...</td>\n",
       "      <td>...</td>\n",
       "      <td>...</td>\n",
       "    </tr>\n",
       "    <tr>\n",
       "      <th>594</th>\n",
       "      <td>596</td>\n",
       "      <td>Antisocial (with Travis Scott)</td>\n",
       "      <td>Ed Sheeran</td>\n",
       "      <td>pop</td>\n",
       "      <td>2019</td>\n",
       "      <td>152</td>\n",
       "      <td>82</td>\n",
       "      <td>72</td>\n",
       "      <td>-5</td>\n",
       "      <td>36</td>\n",
       "      <td>91</td>\n",
       "      <td>162</td>\n",
       "      <td>13</td>\n",
       "      <td>5</td>\n",
       "      <td>78</td>\n",
       "    </tr>\n",
       "    <tr>\n",
       "      <th>597</th>\n",
       "      <td>599</td>\n",
       "      <td>Find U Again (feat. Camila Cabello)</td>\n",
       "      <td>Mark Ronson</td>\n",
       "      <td>dance pop</td>\n",
       "      <td>2019</td>\n",
       "      <td>104</td>\n",
       "      <td>66</td>\n",
       "      <td>61</td>\n",
       "      <td>-7</td>\n",
       "      <td>20</td>\n",
       "      <td>16</td>\n",
       "      <td>176</td>\n",
       "      <td>1</td>\n",
       "      <td>3</td>\n",
       "      <td>75</td>\n",
       "    </tr>\n",
       "    <tr>\n",
       "      <th>598</th>\n",
       "      <td>600</td>\n",
       "      <td>Cross Me (feat. Chance the Rapper &amp; PnB Rock)</td>\n",
       "      <td>Ed Sheeran</td>\n",
       "      <td>pop</td>\n",
       "      <td>2019</td>\n",
       "      <td>95</td>\n",
       "      <td>79</td>\n",
       "      <td>75</td>\n",
       "      <td>-6</td>\n",
       "      <td>7</td>\n",
       "      <td>61</td>\n",
       "      <td>206</td>\n",
       "      <td>21</td>\n",
       "      <td>12</td>\n",
       "      <td>75</td>\n",
       "    </tr>\n",
       "    <tr>\n",
       "      <th>599</th>\n",
       "      <td>601</td>\n",
       "      <td>No Brainer (feat. Justin Bieber, Chance the Ra...</td>\n",
       "      <td>DJ Khaled</td>\n",
       "      <td>dance pop</td>\n",
       "      <td>2019</td>\n",
       "      <td>136</td>\n",
       "      <td>76</td>\n",
       "      <td>53</td>\n",
       "      <td>-5</td>\n",
       "      <td>9</td>\n",
       "      <td>65</td>\n",
       "      <td>260</td>\n",
       "      <td>7</td>\n",
       "      <td>34</td>\n",
       "      <td>70</td>\n",
       "    </tr>\n",
       "    <tr>\n",
       "      <th>600</th>\n",
       "      <td>602</td>\n",
       "      <td>Nothing Breaks Like a Heart (feat. Miley Cyrus)</td>\n",
       "      <td>Mark Ronson</td>\n",
       "      <td>dance pop</td>\n",
       "      <td>2019</td>\n",
       "      <td>114</td>\n",
       "      <td>79</td>\n",
       "      <td>60</td>\n",
       "      <td>-6</td>\n",
       "      <td>42</td>\n",
       "      <td>24</td>\n",
       "      <td>217</td>\n",
       "      <td>1</td>\n",
       "      <td>7</td>\n",
       "      <td>69</td>\n",
       "    </tr>\n",
       "  </tbody>\n",
       "</table>\n",
       "<p>450 rows × 15 columns</p>\n",
       "</div>"
      ],
      "text/plain": [
       "      id                                              title         artist  \\\n",
       "2      3                                            TiK ToK          Kesha   \n",
       "3      4                                        Bad Romance      Lady Gaga   \n",
       "4      5                               Just the Way You Are     Bruno Mars   \n",
       "5      6                                               Baby  Justin Bieber   \n",
       "6      7                                           Dynamite      Taio Cruz   \n",
       "..   ...                                                ...            ...   \n",
       "594  596                     Antisocial (with Travis Scott)     Ed Sheeran   \n",
       "597  599                Find U Again (feat. Camila Cabello)    Mark Ronson   \n",
       "598  600      Cross Me (feat. Chance the Rapper & PnB Rock)     Ed Sheeran   \n",
       "599  601  No Brainer (feat. Justin Bieber, Chance the Ra...      DJ Khaled   \n",
       "600  602    Nothing Breaks Like a Heart (feat. Miley Cyrus)    Mark Ronson   \n",
       "\n",
       "        top genre  year  bpm  nrgy  dnce  dB  live  val  dur  acous  spch  pop  \n",
       "2       dance pop  2010  120    84    76  -3    29   71  200     10    14   80  \n",
       "3       dance pop  2010  119    92    70  -4     8   71  295      0     4   79  \n",
       "4             pop  2010  109    84    64  -5     9   43  221      2     4   78  \n",
       "5    canadian pop  2010   65    86    73  -5    11   54  214      4    14   77  \n",
       "6       dance pop  2010  120    78    75  -4     4   82  203      0     9   77  \n",
       "..            ...   ...  ...   ...   ...  ..   ...  ...  ...    ...   ...  ...  \n",
       "594           pop  2019  152    82    72  -5    36   91  162     13     5   78  \n",
       "597     dance pop  2019  104    66    61  -7    20   16  176      1     3   75  \n",
       "598           pop  2019   95    79    75  -6     7   61  206     21    12   75  \n",
       "599     dance pop  2019  136    76    53  -5     9   65  260      7    34   70  \n",
       "600     dance pop  2019  114    79    60  -6    42   24  217      1     7   69  \n",
       "\n",
       "[450 rows x 15 columns]"
      ]
     },
     "execution_count": 14,
     "metadata": {},
     "output_type": "execute_result"
    }
   ],
   "source": [
    "genrefilt = top[(top['top genre'] == 'dance pop') | (top['top genre'] == 'pop') | (top['top genre'] == 'canadian pop') | (top['top genre'] == 'barbadian pop') | (top['top genre'] == 'boy band')]\n",
    "genrefilt"
   ]
  },
  {
   "cell_type": "code",
   "execution_count": 15,
   "metadata": {},
   "outputs": [
    {
     "data": {
      "text/plain": [
       "Text(0.5, 1.0, 'Porcentaje de los 5 genéros más populares')"
      ]
     },
     "execution_count": 15,
     "metadata": {},
     "output_type": "execute_result"
    },
    {
     "data": {
      "image/png": "[encoded data removed]",
      "text/plain": [
       "<Figure size 720x720 with 1 Axes>"
      ]
     },
     "metadata": {},
     "output_type": "display_data"
    }
   ],
   "source": [
    "colors = [\"plum\", \"skyblue\", \"lightcoral\", \"yellowgreen\", 'khaki']\n",
    "\n",
    "top['top genre'].value_counts().head(5).plot.pie(figsize=(10,10), autopct='%1.1f%%', colors = colors)\n",
    "plt.title('Porcentaje de los 5 genéros más populares')\n"
   ]
  },
  {
   "cell_type": "markdown",
   "metadata": {},
   "source": [
    "Esta gráfica circular representa los porcentajes de los cinco géneros más populares, de nuevo se aprecia una clara mayoría de 'dance pop'.\n",
    "\n",
    "Además, hay cincuenta géneros musicales diferentes:"
   ]
  },
  {
   "cell_type": "code",
   "execution_count": 16,
   "metadata": {},
   "outputs": [
    {
     "data": {
      "text/plain": [
       "50"
      ]
     },
     "execution_count": 16,
     "metadata": {},
     "output_type": "execute_result"
    }
   ],
   "source": [
    "len(top['top genre'].unique())"
   ]
  },
  {
   "cell_type": "markdown",
   "metadata": {},
   "source": [
    "## AÑO\n",
    "\n",
    "Como se ha explicado previamente, los años de la toma de la muestra son aquellos que están entre 2010 y 2019, inclusive."
   ]
  },
  {
   "cell_type": "code",
   "execution_count": 17,
   "metadata": {},
   "outputs": [
    {
     "data": {
      "text/html": [
       "<div>\n",
       "<style scoped>\n",
       "    .dataframe tbody tr th:only-of-type {\n",
       "        vertical-align: middle;\n",
       "    }\n",
       "\n",
       "    .dataframe tbody tr th {\n",
       "        vertical-align: top;\n",
       "    }\n",
       "\n",
       "    .dataframe thead th {\n",
       "        text-align: right;\n",
       "    }\n",
       "</style>\n",
       "<table border=\"1\" class=\"dataframe\">\n",
       "  <thead>\n",
       "    <tr style=\"text-align: right;\">\n",
       "      <th></th>\n",
       "      <th>year</th>\n",
       "      <th>Canciones</th>\n",
       "    </tr>\n",
       "  </thead>\n",
       "  <tbody>\n",
       "    <tr>\n",
       "      <th>0</th>\n",
       "      <td>2010</td>\n",
       "      <td>51</td>\n",
       "    </tr>\n",
       "    <tr>\n",
       "      <th>1</th>\n",
       "      <td>2011</td>\n",
       "      <td>53</td>\n",
       "    </tr>\n",
       "    <tr>\n",
       "      <th>2</th>\n",
       "      <td>2012</td>\n",
       "      <td>35</td>\n",
       "    </tr>\n",
       "    <tr>\n",
       "      <th>3</th>\n",
       "      <td>2013</td>\n",
       "      <td>71</td>\n",
       "    </tr>\n",
       "    <tr>\n",
       "      <th>4</th>\n",
       "      <td>2014</td>\n",
       "      <td>58</td>\n",
       "    </tr>\n",
       "    <tr>\n",
       "      <th>5</th>\n",
       "      <td>2015</td>\n",
       "      <td>95</td>\n",
       "    </tr>\n",
       "    <tr>\n",
       "      <th>6</th>\n",
       "      <td>2016</td>\n",
       "      <td>80</td>\n",
       "    </tr>\n",
       "    <tr>\n",
       "      <th>7</th>\n",
       "      <td>2017</td>\n",
       "      <td>65</td>\n",
       "    </tr>\n",
       "    <tr>\n",
       "      <th>8</th>\n",
       "      <td>2018</td>\n",
       "      <td>63</td>\n",
       "    </tr>\n",
       "    <tr>\n",
       "      <th>9</th>\n",
       "      <td>2019</td>\n",
       "      <td>31</td>\n",
       "    </tr>\n",
       "  </tbody>\n",
       "</table>\n",
       "</div>"
      ],
      "text/plain": [
       "   year  Canciones\n",
       "0  2010         51\n",
       "1  2011         53\n",
       "2  2012         35\n",
       "3  2013         71\n",
       "4  2014         58\n",
       "5  2015         95\n",
       "6  2016         80\n",
       "7  2017         65\n",
       "8  2018         63\n",
       "9  2019         31"
      ]
     },
     "execution_count": 17,
     "metadata": {},
     "output_type": "execute_result"
    }
   ],
   "source": [
    "topYear = top.groupby(['year']).size().reset_index(name = 'Canciones')\n",
    "topYear"
   ]
  },
  {
   "cell_type": "markdown",
   "metadata": {},
   "source": [
    "Realizando una tabla que contabiliza las canciones del top se puede observar que 2015 y 2016 son los años con más canciones en este top, un total de 95 y 80 respectivamente, mientras que en 2012 y en 2019 unicamente hay 35 y 31 canciones registradas en el DF."
   ]
  },
  {
   "cell_type": "markdown",
   "metadata": {},
   "source": [
    "### BPM\n",
    "Las canciones tienen una media de 118.56 bpm, siendo el máximo de beats per minute 206 y el mínimo 0."
   ]
  },
  {
   "cell_type": "code",
   "execution_count": 18,
   "metadata": {},
   "outputs": [
    {
     "data": {
      "text/plain": [
       "<seaborn.axisgrid.FacetGrid at 0x7fb551674fa0>"
      ]
     },
     "execution_count": 18,
     "metadata": {},
     "output_type": "execute_result"
    },
    {
     "data": {
      "image/png": "[encoded data removed]",
      "text/plain": [
       "<Figure size 360x360 with 1 Axes>"
      ]
     },
     "metadata": {
      "needs_background": "light"
     },
     "output_type": "display_data"
    }
   ],
   "source": [
    "sns.displot(top, x = top['bpm'])"
   ]
  },
  {
   "cell_type": "markdown",
   "metadata": {},
   "source": [
    "Se puede apreciar cómo la mayoría de las canciones tienen entre 120 y 130 beats por minuto.  "
   ]
  },
  {
   "cell_type": "code",
   "execution_count": 19,
   "metadata": {},
   "outputs": [
    {
     "data": {
      "text/plain": [
       "0.20907141054574646"
      ]
     },
     "execution_count": 19,
     "metadata": {},
     "output_type": "execute_result"
    }
   ],
   "source": [
    "cv = ss.variation(top[\"bpm\"])\n",
    "abs(cv)"
   ]
  },
  {
   "cell_type": "markdown",
   "metadata": {},
   "source": [
    "Además, aplicando la fórmula del Coeficiente de Variación de Pearson (dt/media) a través de una función de la librería Spicy, obtenemos que la varianza es mínima y muy representativa, ya que está muy concentrada. "
   ]
  },
  {
   "cell_type": "markdown",
   "metadata": {},
   "source": [
    "## ENERGÍA\n",
    "\n",
    "La _energía_ de las canciones se mide en una escala de 0 a 100. El máximo del DF se encuentra en 98 y el mínimo en 0, lo cual se podría considerar un error de codificación (se estudiará a continuación. La media está en torno a 70."
   ]
  },
  {
   "cell_type": "code",
   "execution_count": 20,
   "metadata": {},
   "outputs": [
    {
     "data": {
      "text/plain": [
       "count    602.000000\n",
       "mean      70.478405\n",
       "std       16.311966\n",
       "min        0.000000\n",
       "25%       61.000000\n",
       "50%       74.000000\n",
       "75%       82.000000\n",
       "max       98.000000\n",
       "Name: nrgy, dtype: float64"
      ]
     },
     "execution_count": 20,
     "metadata": {},
     "output_type": "execute_result"
    }
   ],
   "source": [
    "top.nrgy.describe()"
   ]
  },
  {
   "cell_type": "code",
   "execution_count": 21,
   "metadata": {},
   "outputs": [
    {
     "data": {
      "text/plain": [
       "1"
      ]
     },
     "execution_count": 21,
     "metadata": {},
     "output_type": "execute_result"
    }
   ],
   "source": [
    "ceros = top['nrgy'] == 0\n",
    "ceros.sum()"
   ]
  },
  {
   "cell_type": "markdown",
   "metadata": {},
   "source": [
    "Hay tan solo una canción en el DF que tiene energía 0, 'Million Years Ago' de Adele. A pesar de que es una canción tranquila, un valor de energía igual a cero resulta un poco drástico, por lo que parece que es un error de codificación."
   ]
  },
  {
   "cell_type": "code",
   "execution_count": 22,
   "metadata": {},
   "outputs": [
    {
     "data": {
      "text/html": [
       "<div>\n",
       "<style scoped>\n",
       "    .dataframe tbody tr th:only-of-type {\n",
       "        vertical-align: middle;\n",
       "    }\n",
       "\n",
       "    .dataframe tbody tr th {\n",
       "        vertical-align: top;\n",
       "    }\n",
       "\n",
       "    .dataframe thead th {\n",
       "        text-align: right;\n",
       "    }\n",
       "</style>\n",
       "<table border=\"1\" class=\"dataframe\">\n",
       "  <thead>\n",
       "    <tr style=\"text-align: right;\">\n",
       "      <th></th>\n",
       "      <th>id</th>\n",
       "      <th>title</th>\n",
       "      <th>artist</th>\n",
       "      <th>top genre</th>\n",
       "      <th>year</th>\n",
       "      <th>bpm</th>\n",
       "      <th>nrgy</th>\n",
       "      <th>dnce</th>\n",
       "      <th>dB</th>\n",
       "      <th>live</th>\n",
       "      <th>val</th>\n",
       "      <th>dur</th>\n",
       "      <th>acous</th>\n",
       "      <th>spch</th>\n",
       "      <th>pop</th>\n",
       "    </tr>\n",
       "  </thead>\n",
       "  <tbody>\n",
       "    <tr>\n",
       "      <th>442</th>\n",
       "      <td>443</td>\n",
       "      <td>Million Years Ago</td>\n",
       "      <td>Adele</td>\n",
       "      <td>british soul</td>\n",
       "      <td>2016</td>\n",
       "      <td>0</td>\n",
       "      <td>0</td>\n",
       "      <td>0</td>\n",
       "      <td>-60</td>\n",
       "      <td>0</td>\n",
       "      <td>0</td>\n",
       "      <td>227</td>\n",
       "      <td>0</td>\n",
       "      <td>0</td>\n",
       "      <td>0</td>\n",
       "    </tr>\n",
       "  </tbody>\n",
       "</table>\n",
       "</div>"
      ],
      "text/plain": [
       "      id              title artist     top genre  year  bpm  nrgy  dnce  dB  \\\n",
       "442  443  Million Years Ago  Adele  british soul  2016    0     0     0 -60   \n",
       "\n",
       "     live  val  dur  acous  spch  pop  \n",
       "442     0    0  227      0     0    0  "
      ]
     },
     "execution_count": 22,
     "metadata": {},
     "output_type": "execute_result"
    }
   ],
   "source": [
    "top[(top['nrgy'] == 0)]"
   ]
  },
  {
   "cell_type": "markdown",
   "metadata": {},
   "source": [
    "Además, se puede ver cómo el resto de valores (beats por minuto, el ánimo, la popularidad, la acusticidad...) son también cero, lo cual no deja lugar a dudas: se trata de un error de codificación. Cabe la posibilidad de que esta canción esté metiendo ruido a los análisis que se puedan realizar a continuación, por lo que se eliminará del DF."
   ]
  },
  {
   "cell_type": "code",
   "execution_count": 23,
   "metadata": {},
   "outputs": [],
   "source": [
    "top = top.drop([442,])"
   ]
  },
  {
   "cell_type": "code",
   "execution_count": 24,
   "metadata": {},
   "outputs": [
    {
     "data": {
      "text/plain": [
       "0"
      ]
     },
     "execution_count": 24,
     "metadata": {},
     "output_type": "execute_result"
    }
   ],
   "source": [
    "ceros = top['nrgy'] == 0\n",
    "ceros.sum()"
   ]
  },
  {
   "cell_type": "markdown",
   "metadata": {},
   "source": [
    "Una vez comprobado que se ha eliminado esta fila del DF, se vuelve a realizar el análisis de los estadísticos descriptivos para verificar si se ha producido un cambio notable y por lo tanto, si esta canción estaba metiendo ruido o no."
   ]
  },
  {
   "cell_type": "code",
   "execution_count": 25,
   "metadata": {
    "scrolled": true
   },
   "outputs": [
    {
     "data": {
      "text/plain": [
       "count    601.000000\n",
       "mean      70.595674\n",
       "std       16.069575\n",
       "min        4.000000\n",
       "25%       61.000000\n",
       "50%       74.000000\n",
       "75%       82.000000\n",
       "max       98.000000\n",
       "Name: nrgy, dtype: float64"
      ]
     },
     "execution_count": 25,
     "metadata": {},
     "output_type": "execute_result"
    }
   ],
   "source": [
    "top.nrgy.describe()"
   ]
  },
  {
   "cell_type": "code",
   "execution_count": 26,
   "metadata": {
    "scrolled": false
   },
   "outputs": [
    {
     "data": {
      "text/plain": [
       "<matplotlib.axes._subplots.AxesSubplot at 0x7fb551b1c280>"
      ]
     },
     "execution_count": 26,
     "metadata": {},
     "output_type": "execute_result"
    },
    {
     "data": {
      "image/png": "[encoded data removed]",
      "text/plain": [
       "<Figure size 1008x720 with 1 Axes>"
      ]
     },
     "metadata": {},
     "output_type": "display_data"
    }
   ],
   "source": [
    "sns.set()\n",
    "f, axes = plt.subplots(figsize=(14, 10))\n",
    "sns.boxplot(data = top.nrgy, color=\"lightblue\")"
   ]
  },
  {
   "cell_type": "markdown",
   "metadata": {},
   "source": [
    "La media de esta variable no se ha visto casi alterada, por lo que la canción mal codificada no estaba influenciando de manera notable en el DF (también debido a la cantidad de observaciones). \n",
    "\n",
    "Adicionalmente, se ha creado un diagrama de caja para ver la dispersión de los valores. Hay algunos valores atípicos por debajo de 30 puntos de energía, y se puede observar cómo la mayoría de las canciones están entre 70 y 30 puntos de energía. "
   ]
  },
  {
   "cell_type": "markdown",
   "metadata": {},
   "source": [
    "## _'BAILABILIDAD'_\n",
    "\n",
    "Igual que pasa con la energía, cómo de bailable es una canción está puntuado del 0 al 100. En el caso del DF los valores van de 23 a 97, con una media de 64,47."
   ]
  },
  {
   "cell_type": "code",
   "execution_count": 27,
   "metadata": {},
   "outputs": [
    {
     "data": {
      "text/plain": [
       "count    601.000000\n",
       "mean      64.477537\n",
       "std       13.138363\n",
       "min       23.000000\n",
       "25%       57.000000\n",
       "50%       66.000000\n",
       "75%       73.000000\n",
       "max       97.000000\n",
       "Name: dnce, dtype: float64"
      ]
     },
     "execution_count": 27,
     "metadata": {},
     "output_type": "execute_result"
    }
   ],
   "source": [
    "top.dnce.describe()"
   ]
  },
  {
   "cell_type": "code",
   "execution_count": 28,
   "metadata": {
    "scrolled": false
   },
   "outputs": [
    {
     "data": {
      "text/plain": [
       "<seaborn.axisgrid.FacetGrid at 0x7fb551c6deb0>"
      ]
     },
     "execution_count": 28,
     "metadata": {},
     "output_type": "execute_result"
    },
    {
     "data": {
      "image/png": "[encoded data removed]",
      "text/plain": [
       "<Figure size 360x360 with 1 Axes>"
      ]
     },
     "metadata": {},
     "output_type": "display_data"
    }
   ],
   "source": [
    "sns.displot(top, x = top['dnce'])"
   ]
  },
  {
   "cell_type": "markdown",
   "metadata": {},
   "source": [
    "La mayoría de las canciones parecen estar entre los 60 y 80 puntos de 'bailabilidad'"
   ]
  },
  {
   "cell_type": "markdown",
   "metadata": {},
   "source": [
    "## DECIBELIOS\n",
    "\n",
    "Antes de hablar de los decibelios, es importante aclarar que el decibelio no es una unidad de medida de volumen, sino un ratio que compara el valor de un número con el de otro. Además, forman parte de una función logarítmica, por lo que nos encontramos con valores negativos. Cuanto más cercano a cero significa que la canción es más alta.\n",
    "\n",
    "En el caso del DF los valores se encuentran entre -15 y -2dB, siendo la media -5.5dB aproximadamente."
   ]
  },
  {
   "cell_type": "code",
   "execution_count": 29,
   "metadata": {
    "scrolled": true
   },
   "outputs": [
    {
     "data": {
      "text/plain": [
       "count    601.000000\n",
       "mean      -5.489185\n",
       "std        1.705960\n",
       "min      -15.000000\n",
       "25%       -6.000000\n",
       "50%       -5.000000\n",
       "75%       -4.000000\n",
       "max       -2.000000\n",
       "Name: dB, dtype: float64"
      ]
     },
     "execution_count": 29,
     "metadata": {},
     "output_type": "execute_result"
    }
   ],
   "source": [
    "top.dB.describe()"
   ]
  },
  {
   "cell_type": "code",
   "execution_count": 30,
   "metadata": {
    "scrolled": true
   },
   "outputs": [
    {
     "data": {
      "text/plain": [
       "0.31052701462029203"
      ]
     },
     "execution_count": 30,
     "metadata": {},
     "output_type": "execute_result"
    }
   ],
   "source": [
    "cv = ss.variation(top[\"dB\"])\n",
    "abs(cv)"
   ]
  },
  {
   "cell_type": "markdown",
   "metadata": {},
   "source": [
    "El Coeficiente de Variación de Pearson es de 0,31, lo que significa que la varianza es muy representativa al estar muy concentrada."
   ]
  },
  {
   "cell_type": "code",
   "execution_count": 31,
   "metadata": {},
   "outputs": [
    {
     "data": {
      "text/plain": [
       "<seaborn.axisgrid.FacetGrid at 0x7fb551768490>"
      ]
     },
     "execution_count": 31,
     "metadata": {},
     "output_type": "execute_result"
    },
    {
     "data": {
      "image/png": "[encoded data removed]",
      "text/plain": [
       "<Figure size 360x360 with 1 Axes>"
      ]
     },
     "metadata": {},
     "output_type": "display_data"
    }
   ],
   "source": [
    "sns.displot(top, x = top['dB'])"
   ]
  },
  {
   "cell_type": "markdown",
   "metadata": {},
   "source": [
    "## CANCIONES EN DIRECTO\n",
    "\n",
    "La variable 'live' describe cómo de probable es que sea una canción grabada en directo. El rango del DF va desde 3 hasta 74. La media es 17, es decir la mayoría de las canciones son muy poco probables que sean grabadas en directo. Esto tiene sentido ya que la mayoría de las canciones que alcanzan los tops de spotify suelen ser canciones grabadas en estudio."
   ]
  },
  {
   "cell_type": "code",
   "execution_count": 32,
   "metadata": {},
   "outputs": [
    {
     "data": {
      "text/plain": [
       "count    601.000000\n",
       "mean      17.830283\n",
       "std       13.088334\n",
       "min        3.000000\n",
       "25%        9.000000\n",
       "50%       12.000000\n",
       "75%       24.000000\n",
       "max       74.000000\n",
       "Name: live, dtype: float64"
      ]
     },
     "execution_count": 32,
     "metadata": {},
     "output_type": "execute_result"
    }
   ],
   "source": [
    "top.live.describe()"
   ]
  },
  {
   "cell_type": "code",
   "execution_count": 33,
   "metadata": {
    "scrolled": false
   },
   "outputs": [
    {
     "data": {
      "text/html": [
       "<div>\n",
       "<style scoped>\n",
       "    .dataframe tbody tr th:only-of-type {\n",
       "        vertical-align: middle;\n",
       "    }\n",
       "\n",
       "    .dataframe tbody tr th {\n",
       "        vertical-align: top;\n",
       "    }\n",
       "\n",
       "    .dataframe thead th {\n",
       "        text-align: right;\n",
       "    }\n",
       "</style>\n",
       "<table border=\"1\" class=\"dataframe\">\n",
       "  <thead>\n",
       "    <tr style=\"text-align: right;\">\n",
       "      <th></th>\n",
       "      <th>title</th>\n",
       "      <th>top genre</th>\n",
       "      <th>live</th>\n",
       "    </tr>\n",
       "  </thead>\n",
       "  <tbody>\n",
       "    <tr>\n",
       "      <th>580</th>\n",
       "      <td>Good as Hell (feat. Ariana Grande) - Remix</td>\n",
       "      <td>escape room</td>\n",
       "      <td>74</td>\n",
       "    </tr>\n",
       "    <tr>\n",
       "      <th>400</th>\n",
       "      <td>NO</td>\n",
       "      <td>dance pop</td>\n",
       "      <td>74</td>\n",
       "    </tr>\n",
       "    <tr>\n",
       "      <th>12</th>\n",
       "      <td>Cooler Than Me - Single Mix</td>\n",
       "      <td>dance pop</td>\n",
       "      <td>70</td>\n",
       "    </tr>\n",
       "    <tr>\n",
       "      <th>354</th>\n",
       "      <td>Time of Our Lives</td>\n",
       "      <td>dance pop</td>\n",
       "      <td>69</td>\n",
       "    </tr>\n",
       "    <tr>\n",
       "      <th>101</th>\n",
       "      <td>Last Friday Night (T.G.I.F.)</td>\n",
       "      <td>dance pop</td>\n",
       "      <td>67</td>\n",
       "    </tr>\n",
       "    <tr>\n",
       "      <th>63</th>\n",
       "      <td>Monster</td>\n",
       "      <td>chicago rap</td>\n",
       "      <td>67</td>\n",
       "    </tr>\n",
       "    <tr>\n",
       "      <th>175</th>\n",
       "      <td>Play Hard (feat. Ne-Yo &amp; Akon) - New Edit</td>\n",
       "      <td>dance pop</td>\n",
       "      <td>66</td>\n",
       "    </tr>\n",
       "    <tr>\n",
       "      <th>42</th>\n",
       "      <td>Hard</td>\n",
       "      <td>barbadian pop</td>\n",
       "      <td>65</td>\n",
       "    </tr>\n",
       "    <tr>\n",
       "      <th>194</th>\n",
       "      <td>Take Back the Night</td>\n",
       "      <td>dance pop</td>\n",
       "      <td>64</td>\n",
       "    </tr>\n",
       "    <tr>\n",
       "      <th>558</th>\n",
       "      <td>Walk On Water (feat. BeyoncÈ)</td>\n",
       "      <td>detroit hip hop</td>\n",
       "      <td>64</td>\n",
       "    </tr>\n",
       "    <tr>\n",
       "      <th>292</th>\n",
       "      <td>Don't</td>\n",
       "      <td>pop</td>\n",
       "      <td>64</td>\n",
       "    </tr>\n",
       "    <tr>\n",
       "      <th>338</th>\n",
       "      <td>Prayer in C - Robin Schulz Radio Edit</td>\n",
       "      <td>french indie pop</td>\n",
       "      <td>62</td>\n",
       "    </tr>\n",
       "    <tr>\n",
       "      <th>58</th>\n",
       "      <td>Love On Top</td>\n",
       "      <td>dance pop</td>\n",
       "      <td>60</td>\n",
       "    </tr>\n",
       "    <tr>\n",
       "      <th>17</th>\n",
       "      <td>The Time (Dirty Bit)</td>\n",
       "      <td>dance pop</td>\n",
       "      <td>60</td>\n",
       "    </tr>\n",
       "    <tr>\n",
       "      <th>288</th>\n",
       "      <td>Animals</td>\n",
       "      <td>pop</td>\n",
       "      <td>59</td>\n",
       "    </tr>\n",
       "  </tbody>\n",
       "</table>\n",
       "</div>"
      ],
      "text/plain": [
       "                                          title         top genre  live\n",
       "580  Good as Hell (feat. Ariana Grande) - Remix       escape room    74\n",
       "400                                          NO         dance pop    74\n",
       "12                  Cooler Than Me - Single Mix         dance pop    70\n",
       "354                           Time of Our Lives         dance pop    69\n",
       "101                Last Friday Night (T.G.I.F.)         dance pop    67\n",
       "63                                      Monster       chicago rap    67\n",
       "175   Play Hard (feat. Ne-Yo & Akon) - New Edit         dance pop    66\n",
       "42                                         Hard     barbadian pop    65\n",
       "194                         Take Back the Night         dance pop    64\n",
       "558               Walk On Water (feat. BeyoncÈ)   detroit hip hop    64\n",
       "292                                       Don't               pop    64\n",
       "338       Prayer in C - Robin Schulz Radio Edit  french indie pop    62\n",
       "58                                  Love On Top         dance pop    60\n",
       "17                         The Time (Dirty Bit)         dance pop    60\n",
       "288                                     Animals               pop    59"
      ]
     },
     "execution_count": 33,
     "metadata": {},
     "output_type": "execute_result"
    }
   ],
   "source": [
    "liveness = top.drop(['id', 'artist', 'year', 'bpm', 'nrgy', 'dnce', 'dB', 'val', 'dur', 'acous', 'spch', 'pop'], axis = 1)\n",
    "liveness_sorted = liveness.sort_values('live',ascending=False)\n",
    "liveness_sorted.head(15)\n"
   ]
  },
  {
   "cell_type": "markdown",
   "metadata": {},
   "source": [
    "Con el DF liveness_sorted se puede observar cómo, dentro de las 15 canciones con mayor valor de 'live', 8 pertenecen al género _dance pop_ y 4 son 'Edits' (incluyendo a 'Single Mix' o 'Remix'). Las canciones que tienen esta característica suelen ser canciones del género dance, ya que son versiones de canciones más 'dance' que suelen hacer DJs. \n",
    "\n",
    "Por esto, aunque no parezca haber ninguna canción gravada en vivo en el DF (las canciones que cumplen esta característica van acompañadas de la palabra 'Live' o 'Directo' en el título), parece que valores altos de esta variable están relacionados con el género de la canción."
   ]
  },
  {
   "cell_type": "markdown",
   "metadata": {},
   "source": [
    "## CANCIONES ACÚSTICAS\n",
    "\n",
    "La variable 'acous', de manera análoga que 'live', describe cómo de probable es que la canción sea acústica. Se trata de un rango del 0 al 100, en el que a mayor valor, más posible es que sea acústica. La media se encuentra en 14, por lo que se puede afirmar que la gran mayoría de las canciones del DF no son acústicas. "
   ]
  },
  {
   "cell_type": "code",
   "execution_count": 34,
   "metadata": {
    "scrolled": true
   },
   "outputs": [
    {
     "data": {
      "text/plain": [
       "count    601.000000\n",
       "mean      14.371048\n",
       "std       20.786384\n",
       "min        0.000000\n",
       "25%        2.000000\n",
       "50%        6.000000\n",
       "75%       17.000000\n",
       "max       99.000000\n",
       "Name: acous, dtype: float64"
      ]
     },
     "execution_count": 34,
     "metadata": {},
     "output_type": "execute_result"
    }
   ],
   "source": [
    "top.acous.describe()"
   ]
  },
  {
   "cell_type": "code",
   "execution_count": 35,
   "metadata": {},
   "outputs": [
    {
     "data": {
      "text/plain": [
       "72"
      ]
     },
     "execution_count": 35,
     "metadata": {},
     "output_type": "execute_result"
    }
   ],
   "source": [
    "ceros = top['acous'] == 0\n",
    "ceros.sum()"
   ]
  },
  {
   "cell_type": "markdown",
   "metadata": {},
   "source": [
    "Hay 72 canciones que tienen un valor de 0. De estas 72, como se puede ver a continuación, hay 49 canciones que pertenecen al género dance pop. Sin embargo, habiendo 327 canciones de este género, el ser de este género no está asociado con tener un '0' en acusticidad. \n",
    "\n",
    "Sin embargo, sí que se ve que tener un '0' en acusticidad está muy asociado con ser una canción dance pop."
   ]
  },
  {
   "cell_type": "code",
   "execution_count": 36,
   "metadata": {
    "scrolled": true
   },
   "outputs": [
    {
     "data": {
      "text/plain": [
       "top genre\n",
       "barbadian pop        3\n",
       "big room             1\n",
       "boy band             2\n",
       "british soul         1\n",
       "canadian hip hop     1\n",
       "canadian pop         3\n",
       "chicago rap          1\n",
       "dance pop           49\n",
       "hip hop              1\n",
       "indie pop            2\n",
       "moroccan pop         1\n",
       "permanent wave       1\n",
       "pop                  6\n",
       "dtype: int64"
      ]
     },
     "execution_count": 36,
     "metadata": {},
     "output_type": "execute_result"
    }
   ],
   "source": [
    "top[(top['acous'] == 0)].groupby(['top genre']).size()"
   ]
  },
  {
   "cell_type": "markdown",
   "metadata": {},
   "source": [
    "## ÁNIMO\n",
    "\n",
    "La variable 'val' describe el ánimo de la canción. Es decir, a mayor valor, más animada es. Estos valores van del 4 al 98 en el DF. \n",
    "\n",
    "La media está en 52.24%, por lo que la distribución del ánimo parece estar muy repartida. "
   ]
  },
  {
   "cell_type": "code",
   "execution_count": 37,
   "metadata": {},
   "outputs": [
    {
     "data": {
      "text/plain": [
       "count    601.000000\n",
       "mean      52.244592\n",
       "std       22.387684\n",
       "min        4.000000\n",
       "25%       35.000000\n",
       "50%       52.000000\n",
       "75%       69.000000\n",
       "max       98.000000\n",
       "Name: val, dtype: float64"
      ]
     },
     "execution_count": 37,
     "metadata": {},
     "output_type": "execute_result"
    }
   ],
   "source": [
    "top.val.describe()"
   ]
  },
  {
   "cell_type": "code",
   "execution_count": 38,
   "metadata": {
    "scrolled": false
   },
   "outputs": [
    {
     "data": {
      "text/plain": [
       "<seaborn.axisgrid.FacetGrid at 0x7fb552357fd0>"
      ]
     },
     "execution_count": 38,
     "metadata": {},
     "output_type": "execute_result"
    },
    {
     "data": {
      "image/png": "[encoded data removed]",
      "text/plain": [
       "<Figure size 360x360 with 1 Axes>"
      ]
     },
     "metadata": {},
     "output_type": "display_data"
    }
   ],
   "source": [
    "sns.displot(top, x = top['val'])"
   ]
  },
  {
   "cell_type": "markdown",
   "metadata": {},
   "source": [
    "El gráfico muestra una distribución aproximadamente normal. "
   ]
  },
  {
   "cell_type": "markdown",
   "metadata": {},
   "source": [
    "## DURACIÓN\n",
    "\n",
    "La duración de la canción está explicada por la variable _dur_ en segundos. Las duraciones de las canciones del DF van desde 134' (dos minutos, aproximadamente) a 424' (siete minutos), pero la media se sitúa en unos 224', tres minutos y pico. "
   ]
  },
  {
   "cell_type": "code",
   "execution_count": 39,
   "metadata": {
    "scrolled": false
   },
   "outputs": [
    {
     "data": {
      "text/plain": [
       "count    601.000000\n",
       "mean     224.683860\n",
       "std       34.185327\n",
       "min      134.000000\n",
       "25%      202.000000\n",
       "50%      221.000000\n",
       "75%      240.000000\n",
       "max      424.000000\n",
       "Name: dur, dtype: float64"
      ]
     },
     "execution_count": 39,
     "metadata": {},
     "output_type": "execute_result"
    }
   ],
   "source": [
    "top.dur.describe()"
   ]
  },
  {
   "cell_type": "markdown",
   "metadata": {},
   "source": [
    "A continuación se pueden observar las cinco canciones de mayor duración, siendo la más larga 'TKO' de Justin Timberlake."
   ]
  },
  {
   "cell_type": "code",
   "execution_count": 40,
   "metadata": {
    "scrolled": false
   },
   "outputs": [
    {
     "data": {
      "text/html": [
       "<div>\n",
       "<style scoped>\n",
       "    .dataframe tbody tr th:only-of-type {\n",
       "        vertical-align: middle;\n",
       "    }\n",
       "\n",
       "    .dataframe tbody tr th {\n",
       "        vertical-align: top;\n",
       "    }\n",
       "\n",
       "    .dataframe thead th {\n",
       "        text-align: right;\n",
       "    }\n",
       "</style>\n",
       "<table border=\"1\" class=\"dataframe\">\n",
       "  <thead>\n",
       "    <tr style=\"text-align: right;\">\n",
       "      <th></th>\n",
       "      <th>title</th>\n",
       "      <th>artist</th>\n",
       "      <th>top genre</th>\n",
       "      <th>dur</th>\n",
       "    </tr>\n",
       "  </thead>\n",
       "  <tbody>\n",
       "    <tr>\n",
       "      <th>188</th>\n",
       "      <td>TKO</td>\n",
       "      <td>Justin Timberlake</td>\n",
       "      <td>dance pop</td>\n",
       "      <td>424</td>\n",
       "    </tr>\n",
       "    <tr>\n",
       "      <th>422</th>\n",
       "      <td>Wish That You Were Here - From ìMiss Peregrine...</td>\n",
       "      <td>Florence + The Machine</td>\n",
       "      <td>art pop</td>\n",
       "      <td>403</td>\n",
       "    </tr>\n",
       "    <tr>\n",
       "      <th>63</th>\n",
       "      <td>Monster</td>\n",
       "      <td>Kanye West</td>\n",
       "      <td>chicago rap</td>\n",
       "      <td>379</td>\n",
       "    </tr>\n",
       "    <tr>\n",
       "      <th>162</th>\n",
       "      <td>Lose Yourself to Dance</td>\n",
       "      <td>Daft Punk</td>\n",
       "      <td>electro</td>\n",
       "      <td>354</td>\n",
       "    </tr>\n",
       "    <tr>\n",
       "      <th>194</th>\n",
       "      <td>Take Back the Night</td>\n",
       "      <td>Justin Timberlake</td>\n",
       "      <td>dance pop</td>\n",
       "      <td>353</td>\n",
       "    </tr>\n",
       "  </tbody>\n",
       "</table>\n",
       "</div>"
      ],
      "text/plain": [
       "                                                 title  \\\n",
       "188                                                TKO   \n",
       "422  Wish That You Were Here - From ìMiss Peregrine...   \n",
       "63                                             Monster   \n",
       "162                             Lose Yourself to Dance   \n",
       "194                                Take Back the Night   \n",
       "\n",
       "                     artist    top genre  dur  \n",
       "188       Justin Timberlake    dance pop  424  \n",
       "422  Florence + The Machine      art pop  403  \n",
       "63               Kanye West  chicago rap  379  \n",
       "162               Daft Punk      electro  354  \n",
       "194       Justin Timberlake    dance pop  353  "
      ]
     },
     "execution_count": 40,
     "metadata": {},
     "output_type": "execute_result"
    }
   ],
   "source": [
    "duration = top.drop(['id', 'year', 'bpm', 'nrgy', 'dnce', 'dB', 'val', 'acous', 'spch', 'pop', 'live'], axis = 1)\n",
    "duration_sorted = duration.sort_values('dur',ascending=False)\n",
    "duration_sorted.head(5)"
   ]
  },
  {
   "cell_type": "code",
   "execution_count": 41,
   "metadata": {
    "scrolled": false
   },
   "outputs": [
    {
     "data": {
      "text/plain": [
       "<seaborn.axisgrid.FacetGrid at 0x7fb552524f70>"
      ]
     },
     "execution_count": 41,
     "metadata": {},
     "output_type": "execute_result"
    },
    {
     "data": {
      "image/png": "[encoded data removed]",
      "text/plain": [
       "<Figure size 360x360 with 1 Axes>"
      ]
     },
     "metadata": {},
     "output_type": "display_data"
    }
   ],
   "source": [
    "sns.displot(top, x = top['dur'])"
   ]
  },
  {
   "cell_type": "markdown",
   "metadata": {},
   "source": [
    "## PALABRAS\n",
    "\n",
    "La variable 'spch' mide la cantidad de palabras que se dicen en una canción del 0 al 48. A mayor número, mayor cantidad de palabras. \n",
    "\n",
    "La media de palabras está en los 8.3 puntos."
   ]
  },
  {
   "cell_type": "code",
   "execution_count": 42,
   "metadata": {
    "scrolled": false
   },
   "outputs": [
    {
     "data": {
      "text/plain": [
       "count    601.000000\n",
       "mean       8.369384\n",
       "std        7.487545\n",
       "min        3.000000\n",
       "25%        4.000000\n",
       "50%        5.000000\n",
       "75%        9.000000\n",
       "max       48.000000\n",
       "Name: spch, dtype: float64"
      ]
     },
     "execution_count": 42,
     "metadata": {},
     "output_type": "execute_result"
    }
   ],
   "source": [
    "top.spch.describe()"
   ]
  },
  {
   "cell_type": "markdown",
   "metadata": {},
   "source": [
    "La canción que más palabras tiene del DF es 'How Ya Doin'?' de Little Mix."
   ]
  },
  {
   "cell_type": "code",
   "execution_count": 43,
   "metadata": {},
   "outputs": [
    {
     "data": {
      "text/html": [
       "<div>\n",
       "<style scoped>\n",
       "    .dataframe tbody tr th:only-of-type {\n",
       "        vertical-align: middle;\n",
       "    }\n",
       "\n",
       "    .dataframe tbody tr th {\n",
       "        vertical-align: top;\n",
       "    }\n",
       "\n",
       "    .dataframe thead th {\n",
       "        text-align: right;\n",
       "    }\n",
       "</style>\n",
       "<table border=\"1\" class=\"dataframe\">\n",
       "  <thead>\n",
       "    <tr style=\"text-align: right;\">\n",
       "      <th></th>\n",
       "      <th>title</th>\n",
       "      <th>artist</th>\n",
       "      <th>top genre</th>\n",
       "      <th>spch</th>\n",
       "    </tr>\n",
       "  </thead>\n",
       "  <tbody>\n",
       "    <tr>\n",
       "      <th>200</th>\n",
       "      <td>How Ya Doin'? (feat. Missy Elliott)</td>\n",
       "      <td>Little Mix</td>\n",
       "      <td>dance pop</td>\n",
       "      <td>48</td>\n",
       "    </tr>\n",
       "    <tr>\n",
       "      <th>14</th>\n",
       "      <td>Like A G6</td>\n",
       "      <td>Far East Movement</td>\n",
       "      <td>dance pop</td>\n",
       "      <td>45</td>\n",
       "    </tr>\n",
       "    <tr>\n",
       "      <th>364</th>\n",
       "      <td>Love Yourself</td>\n",
       "      <td>Justin Bieber</td>\n",
       "      <td>canadian pop</td>\n",
       "      <td>44</td>\n",
       "    </tr>\n",
       "  </tbody>\n",
       "</table>\n",
       "</div>"
      ],
      "text/plain": [
       "                                   title             artist     top genre  \\\n",
       "200  How Ya Doin'? (feat. Missy Elliott)         Little Mix     dance pop   \n",
       "14                             Like A G6  Far East Movement     dance pop   \n",
       "364                        Love Yourself      Justin Bieber  canadian pop   \n",
       "\n",
       "     spch  \n",
       "200    48  \n",
       "14     45  \n",
       "364    44  "
      ]
     },
     "execution_count": 43,
     "metadata": {},
     "output_type": "execute_result"
    }
   ],
   "source": [
    "palabras = top.drop(['id', 'year', 'bpm', 'nrgy', 'dnce', 'dB', 'val', 'dur', 'acous', 'live', 'pop'], axis = 1)\n",
    "palabras_sorted = palabras.sort_values('spch',ascending=False)\n",
    "palabras_sorted.head(3)"
   ]
  },
  {
   "cell_type": "code",
   "execution_count": 44,
   "metadata": {
    "scrolled": false
   },
   "outputs": [
    {
     "data": {
      "text/plain": [
       "<seaborn.axisgrid.FacetGrid at 0x7fb55206fd00>"
      ]
     },
     "execution_count": 44,
     "metadata": {},
     "output_type": "execute_result"
    },
    {
     "data": {
      "image/png": "[encoded data removed]",
      "text/plain": [
       "<Figure size 360x360 with 1 Axes>"
      ]
     },
     "metadata": {},
     "output_type": "display_data"
    }
   ],
   "source": [
    "sns.displot(top, x = top['spch'])"
   ]
  },
  {
   "cell_type": "markdown",
   "metadata": {},
   "source": [
    "## POPULARIDAD\n",
    "\n",
    "Para concluir el Análisis Univariante, se estudiará la variable 'pop'. Esta variable mide del 0 al 100 cómo de popular es una canción. Hay que tener en cuenta que todas las canciones pertenecen al top de Spotify a lo largo de los años, por lo que esta variable compara entre ellas. \n"
   ]
  },
  {
   "cell_type": "code",
   "execution_count": 45,
   "metadata": {},
   "outputs": [
    {
     "data": {
      "text/plain": [
       "count    601.000000\n",
       "mean      66.612313\n",
       "std       14.278111\n",
       "min        0.000000\n",
       "25%       60.000000\n",
       "50%       69.000000\n",
       "75%       76.000000\n",
       "max       99.000000\n",
       "Name: pop, dtype: float64"
      ]
     },
     "execution_count": 45,
     "metadata": {},
     "output_type": "execute_result"
    }
   ],
   "source": [
    "top['pop'].describe()"
   ]
  },
  {
   "cell_type": "markdown",
   "metadata": {},
   "source": [
    "Destaca que el valor mínimo sea 0, por lo que se estudiará a continuación qué canciones son las que tienen este valor, así como las canciones más populares."
   ]
  },
  {
   "cell_type": "code",
   "execution_count": 46,
   "metadata": {},
   "outputs": [
    {
     "data": {
      "text/html": [
       "<div>\n",
       "<style scoped>\n",
       "    .dataframe tbody tr th:only-of-type {\n",
       "        vertical-align: middle;\n",
       "    }\n",
       "\n",
       "    .dataframe tbody tr th {\n",
       "        vertical-align: top;\n",
       "    }\n",
       "\n",
       "    .dataframe thead th {\n",
       "        text-align: right;\n",
       "    }\n",
       "</style>\n",
       "<table border=\"1\" class=\"dataframe\">\n",
       "  <thead>\n",
       "    <tr style=\"text-align: right;\">\n",
       "      <th></th>\n",
       "      <th>id</th>\n",
       "      <th>title</th>\n",
       "      <th>artist</th>\n",
       "      <th>top genre</th>\n",
       "      <th>year</th>\n",
       "      <th>bpm</th>\n",
       "      <th>nrgy</th>\n",
       "      <th>dnce</th>\n",
       "      <th>dB</th>\n",
       "      <th>live</th>\n",
       "      <th>val</th>\n",
       "      <th>dur</th>\n",
       "      <th>acous</th>\n",
       "      <th>spch</th>\n",
       "      <th>pop</th>\n",
       "    </tr>\n",
       "  </thead>\n",
       "  <tbody>\n",
       "    <tr>\n",
       "      <th>50</th>\n",
       "      <td>51</td>\n",
       "      <td>Hello</td>\n",
       "      <td>Martin Solveig</td>\n",
       "      <td>big room</td>\n",
       "      <td>2010</td>\n",
       "      <td>128</td>\n",
       "      <td>98</td>\n",
       "      <td>67</td>\n",
       "      <td>-3</td>\n",
       "      <td>10</td>\n",
       "      <td>45</td>\n",
       "      <td>191</td>\n",
       "      <td>1</td>\n",
       "      <td>3</td>\n",
       "      <td>0</td>\n",
       "    </tr>\n",
       "    <tr>\n",
       "      <th>138</th>\n",
       "      <td>139</td>\n",
       "      <td>Blow Me (One Last Kiss)</td>\n",
       "      <td>P!nk</td>\n",
       "      <td>dance pop</td>\n",
       "      <td>2012</td>\n",
       "      <td>114</td>\n",
       "      <td>92</td>\n",
       "      <td>60</td>\n",
       "      <td>-3</td>\n",
       "      <td>25</td>\n",
       "      <td>75</td>\n",
       "      <td>256</td>\n",
       "      <td>0</td>\n",
       "      <td>4</td>\n",
       "      <td>0</td>\n",
       "    </tr>\n",
       "    <tr>\n",
       "      <th>267</th>\n",
       "      <td>268</td>\n",
       "      <td>Not a Bad Thing</td>\n",
       "      <td>Justin Timberlake</td>\n",
       "      <td>dance pop</td>\n",
       "      <td>2014</td>\n",
       "      <td>86</td>\n",
       "      <td>73</td>\n",
       "      <td>59</td>\n",
       "      <td>-6</td>\n",
       "      <td>38</td>\n",
       "      <td>46</td>\n",
       "      <td>266</td>\n",
       "      <td>27</td>\n",
       "      <td>6</td>\n",
       "      <td>0</td>\n",
       "    </tr>\n",
       "    <tr>\n",
       "      <th>362</th>\n",
       "      <td>363</td>\n",
       "      <td>L.A.LOVE (la la)</td>\n",
       "      <td>Fergie</td>\n",
       "      <td>dance pop</td>\n",
       "      <td>2015</td>\n",
       "      <td>202</td>\n",
       "      <td>39</td>\n",
       "      <td>48</td>\n",
       "      <td>-8</td>\n",
       "      <td>26</td>\n",
       "      <td>27</td>\n",
       "      <td>193</td>\n",
       "      <td>2</td>\n",
       "      <td>9</td>\n",
       "      <td>0</td>\n",
       "    </tr>\n",
       "  </tbody>\n",
       "</table>\n",
       "</div>"
      ],
      "text/plain": [
       "      id                    title             artist  top genre  year  bpm  \\\n",
       "50    51                    Hello     Martin Solveig   big room  2010  128   \n",
       "138  139  Blow Me (One Last Kiss)               P!nk  dance pop  2012  114   \n",
       "267  268          Not a Bad Thing  Justin Timberlake  dance pop  2014   86   \n",
       "362  363         L.A.LOVE (la la)             Fergie  dance pop  2015  202   \n",
       "\n",
       "     nrgy  dnce  dB  live  val  dur  acous  spch  pop  \n",
       "50     98    67  -3    10   45  191      1     3    0  \n",
       "138    92    60  -3    25   75  256      0     4    0  \n",
       "267    73    59  -6    38   46  266     27     6    0  \n",
       "362    39    48  -8    26   27  193      2     9    0  "
      ]
     },
     "execution_count": 46,
     "metadata": {},
     "output_type": "execute_result"
    }
   ],
   "source": [
    "top[(top['pop'] == 0)]"
   ]
  },
  {
   "cell_type": "markdown",
   "metadata": {},
   "source": [
    "La canción 'Hello' de Marting Solveig tiene discos platino en seis diferentes paises, alcanzando el puesto número 46 en la Billboard Hot 100 en 2011. \n",
    "'Blow Me (One Last Kiss)' de P!nk, tiene diez discos platino en 5 paises. 'Not a Bad Thing' de Justin Timberlake quedó en octava posición el Billboard en 2014 y 'L.A.LOVE (la la)' de Fergie tiene un disco platino en Estados Unidos. \n",
    "\n",
    "Estos méritos no son alcanzados por todas las canciones y si bien es posible que no sean las más populares del DF, se asume que su puntuación de '0' se trata de un error de codificación. "
   ]
  },
  {
   "cell_type": "code",
   "execution_count": 47,
   "metadata": {},
   "outputs": [
    {
     "data": {
      "text/html": [
       "<div>\n",
       "<style scoped>\n",
       "    .dataframe tbody tr th:only-of-type {\n",
       "        vertical-align: middle;\n",
       "    }\n",
       "\n",
       "    .dataframe tbody tr th {\n",
       "        vertical-align: top;\n",
       "    }\n",
       "\n",
       "    .dataframe thead th {\n",
       "        text-align: right;\n",
       "    }\n",
       "</style>\n",
       "<table border=\"1\" class=\"dataframe\">\n",
       "  <thead>\n",
       "    <tr style=\"text-align: right;\">\n",
       "      <th></th>\n",
       "      <th>title</th>\n",
       "      <th>artist</th>\n",
       "      <th>top genre</th>\n",
       "      <th>pop</th>\n",
       "    </tr>\n",
       "  </thead>\n",
       "  <tbody>\n",
       "    <tr>\n",
       "      <th>571</th>\n",
       "      <td>Memories</td>\n",
       "      <td>Maroon 5</td>\n",
       "      <td>pop</td>\n",
       "      <td>99</td>\n",
       "    </tr>\n",
       "    <tr>\n",
       "      <th>572</th>\n",
       "      <td>Lose You To Love Me</td>\n",
       "      <td>Selena Gomez</td>\n",
       "      <td>dance pop</td>\n",
       "      <td>97</td>\n",
       "    </tr>\n",
       "    <tr>\n",
       "      <th>573</th>\n",
       "      <td>Someone You Loved</td>\n",
       "      <td>Lewis Capaldi</td>\n",
       "      <td>pop</td>\n",
       "      <td>96</td>\n",
       "    </tr>\n",
       "    <tr>\n",
       "      <th>574</th>\n",
       "      <td>SeÒorita</td>\n",
       "      <td>Shawn Mendes</td>\n",
       "      <td>canadian pop</td>\n",
       "      <td>95</td>\n",
       "    </tr>\n",
       "    <tr>\n",
       "      <th>575</th>\n",
       "      <td>How Do You Sleep?</td>\n",
       "      <td>Sam Smith</td>\n",
       "      <td>pop</td>\n",
       "      <td>93</td>\n",
       "    </tr>\n",
       "  </tbody>\n",
       "</table>\n",
       "</div>"
      ],
      "text/plain": [
       "                   title         artist     top genre  pop\n",
       "571             Memories       Maroon 5           pop   99\n",
       "572  Lose You To Love Me   Selena Gomez     dance pop   97\n",
       "573    Someone You Loved  Lewis Capaldi           pop   96\n",
       "574             SeÒorita   Shawn Mendes  canadian pop   95\n",
       "575    How Do You Sleep?      Sam Smith           pop   93"
      ]
     },
     "execution_count": 47,
     "metadata": {},
     "output_type": "execute_result"
    }
   ],
   "source": [
    "popularity = top.drop(['id', 'year', 'bpm', 'nrgy', 'dnce', 'dB', 'val', 'acous', 'spch', 'dur', 'live'], axis = 1)\n",
    "popularity_sorted = popularity.sort_values('pop',ascending=False)\n",
    "popularity_sorted.head(5)"
   ]
  },
  {
   "cell_type": "markdown",
   "metadata": {},
   "source": [
    "Para respaldar la hipótesis de que las canciones con un valor de cero en la variable 'pop' están mal codificadas, se señala que 'Memories' de Maroon5 (la canción más popular del DF) tiene 9 discos de platino en diferentes países, al nivel de las mencionadas anteriormente. "
   ]
  },
  {
   "cell_type": "code",
   "execution_count": 48,
   "metadata": {},
   "outputs": [
    {
     "data": {
      "text/plain": [
       "<seaborn.axisgrid.FacetGrid at 0x7fb552913130>"
      ]
     },
     "execution_count": 48,
     "metadata": {},
     "output_type": "execute_result"
    },
    {
     "data": {
      "image/png": "[encoded data removed]",
      "text/plain": [
       "<Figure size 360x360 with 1 Axes>"
      ]
     },
     "metadata": {},
     "output_type": "display_data"
    }
   ],
   "source": [
    "sns.displot(top, x = top['pop'])"
   ]
  },
  {
   "cell_type": "markdown",
   "metadata": {},
   "source": [
    "Como se puede observar en el histograma, hay una cola izquierda pesada. Se suaviza un poco si se acota más, eliminando las canciones con una puntuación de 0. "
   ]
  },
  {
   "cell_type": "code",
   "execution_count": 49,
   "metadata": {},
   "outputs": [],
   "source": [
    "top = top.drop([50,])\n",
    "top = top.drop([138,])\n",
    "top = top.drop([267,])\n",
    "top = top.drop([362,])"
   ]
  },
  {
   "cell_type": "code",
   "execution_count": 50,
   "metadata": {
    "scrolled": true
   },
   "outputs": [
    {
     "data": {
      "text/plain": [
       "<seaborn.axisgrid.FacetGrid at 0x7fb552ad0370>"
      ]
     },
     "execution_count": 50,
     "metadata": {},
     "output_type": "execute_result"
    },
    {
     "data": {
      "image/png": "[encoded data removed]",
      "text/plain": [
       "<Figure size 360x360 with 1 Axes>"
      ]
     },
     "metadata": {},
     "output_type": "display_data"
    }
   ],
   "source": [
    "sns.displot(top, x = top['pop'])"
   ]
  },
  {
   "cell_type": "markdown",
   "metadata": {},
   "source": [
    "## 3. Análisis Bivariante\n",
    "\n",
    "A continuación se realizará un Análisis Bivariante para saber si hay dependencia entre variables, y cómo el comportamiento de una afecta a la otra. "
   ]
  },
  {
   "cell_type": "code",
   "execution_count": 51,
   "metadata": {},
   "outputs": [
    {
     "data": {
      "text/plain": [
       "<matplotlib.axes._subplots.AxesSubplot at 0x7fb552c60850>"
      ]
     },
     "execution_count": 51,
     "metadata": {},
     "output_type": "execute_result"
    },
    {
     "data": {
      "image/png": "[encoded data removed]",
      "text/plain": [
       "<Figure size 792x648 with 2 Axes>"
      ]
     },
     "metadata": {},
     "output_type": "display_data"
    }
   ],
   "source": [
    "corr = top.corr()\n",
    "mask = np.triu(np.ones_like(corr, dtype=bool))\n",
    "f, ax = plt.subplots(figsize=(11, 9))\n",
    "cmap = sns.diverging_palette(222, 222, as_cmap=True)\n",
    "sns.heatmap(corr, mask=mask, cmap=cmap, vmax=.3, center=0,\n",
    "            square=True, linewidths=.5, cbar_kws={\"shrink\": .5})"
   ]
  },
  {
   "cell_type": "markdown",
   "metadata": {},
   "source": [
    "Se puede apreciar gracias a matriz diagonal de correlación que las variables que más correlacionadas están son claramente la acusticidad y la energía. \n",
    "\n",
    "En este apartado se analizará la relación de la energía con las características de una canción, la evolución de las variables del DF a través de los años, la relación de las variables con el ánimo de una canción, cómo de bailable es una canción en función del género y cómo afectan las variables del DF a la popularidad de una canción."
   ]
  },
  {
   "cell_type": "markdown",
   "metadata": {},
   "source": [
    "## Relación de la energía con las características de una canción"
   ]
  },
  {
   "cell_type": "markdown",
   "metadata": {},
   "source": [
    "#### Energía - Acusticidad\n",
    "\n",
    "Parece estar inversamente relacionado la acusticidad de una canción con la energía (lo cual tiene sentido), como se puede apreciar claramente en el gráfico siguiente. \n",
    "\n",
    "Esto quiere decir que, cuanto más acústica sea una canción, menos energía tiene."
   ]
  },
  {
   "cell_type": "code",
   "execution_count": 52,
   "metadata": {
    "scrolled": true
   },
   "outputs": [
    {
     "data": {
      "text/plain": [
       "<matplotlib.axes._subplots.AxesSubplot at 0x7fb552ed0550>"
      ]
     },
     "execution_count": 52,
     "metadata": {},
     "output_type": "execute_result"
    },
    {
     "data": {
      "image/png": "[encoded data removed]",
      "text/plain": [
       "<Figure size 432x288 with 1 Axes>"
      ]
     },
     "metadata": {},
     "output_type": "display_data"
    }
   ],
   "source": [
    "sns.kdeplot(x = top.acous, y = top.nrgy, cmap=\"Reds\", shade=True)\n"
   ]
  },
  {
   "cell_type": "markdown",
   "metadata": {},
   "source": [
    "#### Energía - Directo\n",
    "\n",
    "Como se ha comprobado en el análisis univariante, la variable 'live' no explica que las canciones estén grabadas en directo si no más bien que las canciones sean 'edits' o 'remixes'. Podemos ver en la parte derecha de la tabla cómo hay una relación en energía alta con este tipo de canciones, pero sin embargo canciones con valores bajos en la variable 'live' siguen teniendo mucha energía, por lo que se puede asumir que la energía de una canción no está relacionada con la variable 'live'."
   ]
  },
  {
   "cell_type": "code",
   "execution_count": 53,
   "metadata": {},
   "outputs": [
    {
     "data": {
      "text/plain": [
       "<matplotlib.axes._subplots.AxesSubplot at 0x7fb5531895e0>"
      ]
     },
     "execution_count": 53,
     "metadata": {},
     "output_type": "execute_result"
    },
    {
     "data": {
      "image/png": "[encoded data removed]",
      "text/plain": [
       "<Figure size 432x288 with 1 Axes>"
      ]
     },
     "metadata": {},
     "output_type": "display_data"
    }
   ],
   "source": [
    "sns.kdeplot(x = top.live, y = top.nrgy, cmap=\"Blues\", shade=True)\n"
   ]
  },
  {
   "cell_type": "markdown",
   "metadata": {},
   "source": [
    "#### Energía - Bailabilidad\n",
    "\n",
    "Cuando se estudia la relación entre la energía y la bailabilidad de una canción, se ve una clara relación positiva. Esto quiere decir que cuanto más energética sea, más fácil es bailarla. "
   ]
  },
  {
   "cell_type": "code",
   "execution_count": 54,
   "metadata": {},
   "outputs": [
    {
     "data": {
      "text/plain": [
       "<matplotlib.axes._subplots.AxesSubplot at 0x7fb5532bd9d0>"
      ]
     },
     "execution_count": 54,
     "metadata": {},
     "output_type": "execute_result"
    },
    {
     "data": {
      "image/png": "[encoded data removed]",
      "text/plain": [
       "<Figure size 432x288 with 1 Axes>"
      ]
     },
     "metadata": {},
     "output_type": "display_data"
    }
   ],
   "source": [
    "sns.scatterplot(data=top, x='nrgy', y='dnce', hue='nrgy')"
   ]
  },
  {
   "cell_type": "markdown",
   "metadata": {},
   "source": [
    "### Evolución de las variables a través de los años"
   ]
  },
  {
   "cell_type": "markdown",
   "metadata": {},
   "source": [
    "#### Año - Bailabilidad\n",
    "\n",
    "Se puede apreciar un ligero incremento paulatino de cómo de bailable son las canciones que llegan al top de Spotify a lo largo de los años, lo que podría ser una tendencia a que, en un futuro, las canciones sean más bailables."
   ]
  },
  {
   "cell_type": "code",
   "execution_count": 55,
   "metadata": {
    "scrolled": true
   },
   "outputs": [
    {
     "data": {
      "text/plain": [
       "<matplotlib.axes._subplots.AxesSubplot at 0x7fb553124820>"
      ]
     },
     "execution_count": 55,
     "metadata": {},
     "output_type": "execute_result"
    },
    {
     "data": {
      "image/png": "[encoded data removed]",
      "text/plain": [
       "<Figure size 432x288 with 1 Axes>"
      ]
     },
     "metadata": {},
     "output_type": "display_data"
    }
   ],
   "source": [
    "sns.barplot(data = top, x = 'year', y ='dnce', ci =None)"
   ]
  },
  {
   "cell_type": "markdown",
   "metadata": {},
   "source": [
    "#### Año - Género\n",
    "\n",
    "Esta variable es interesante estudiarla porque los géneros más populares han ido variando ligeramente a través de los años. \n",
    "\n",
    "En 2010 las canciones eran, mayoritariamente dance pop, pero también se encuentran canciones de hip pop, pop, hip hop alternativo y pop australiano, aunque en mucha menor medida"
   ]
  },
  {
   "cell_type": "code",
   "execution_count": 56,
   "metadata": {
    "scrolled": true
   },
   "outputs": [
    {
     "ename": "NameError",
     "evalue": "name 'genreyear' is not defined",
     "output_type": "error",
     "traceback": [
      "\u001b[0;31m---------------------------------------------------------------------------\u001b[0m",
      "\u001b[0;31mNameError\u001b[0m                                 Traceback (most recent call last)",
      "\u001b[0;32m<ipython-input-56-5f4a37cf5a88>\u001b[0m in \u001b[0;36m<module>\u001b[0;34m\u001b[0m\n\u001b[1;32m      1\u001b[0m \u001b[0mtop\u001b[0m\u001b[0;34m.\u001b[0m\u001b[0mgroupby\u001b[0m\u001b[0;34m(\u001b[0m\u001b[0;34m[\u001b[0m\u001b[0;34m'top genre'\u001b[0m\u001b[0;34m,\u001b[0m \u001b[0;34m'year'\u001b[0m\u001b[0;34m]\u001b[0m\u001b[0;34m)\u001b[0m\u001b[0;34m.\u001b[0m\u001b[0msize\u001b[0m\u001b[0;34m(\u001b[0m\u001b[0;34m)\u001b[0m\u001b[0;34m.\u001b[0m\u001b[0mreset_index\u001b[0m\u001b[0;34m(\u001b[0m\u001b[0mname\u001b[0m \u001b[0;34m=\u001b[0m \u001b[0;34m'Genre'\u001b[0m\u001b[0;34m)\u001b[0m\u001b[0;34m.\u001b[0m\u001b[0msort_values\u001b[0m\u001b[0;34m(\u001b[0m\u001b[0;34m'Genre'\u001b[0m\u001b[0;34m,\u001b[0m\u001b[0mascending\u001b[0m\u001b[0;34m=\u001b[0m\u001b[0;32mFalse\u001b[0m\u001b[0;34m)\u001b[0m\u001b[0;34m\u001b[0m\u001b[0;34m\u001b[0m\u001b[0m\n\u001b[0;32m----> 2\u001b[0;31m \u001b[0my2010\u001b[0m \u001b[0;34m=\u001b[0m \u001b[0mgenreyear\u001b[0m\u001b[0;34m[\u001b[0m\u001b[0;34m'year'\u001b[0m\u001b[0;34m]\u001b[0m \u001b[0;34m==\u001b[0m \u001b[0;36m2010\u001b[0m\u001b[0;34m\u001b[0m\u001b[0;34m\u001b[0m\u001b[0m\n\u001b[0m\u001b[1;32m      3\u001b[0m \u001b[0my2010_filt\u001b[0m \u001b[0;34m=\u001b[0m \u001b[0mgenreyear\u001b[0m\u001b[0;34m[\u001b[0m\u001b[0my2010\u001b[0m\u001b[0;34m]\u001b[0m\u001b[0;34m\u001b[0m\u001b[0;34m\u001b[0m\u001b[0m\n\u001b[1;32m      4\u001b[0m \u001b[0mgenre10\u001b[0m \u001b[0;34m=\u001b[0m \u001b[0my2010_filt\u001b[0m\u001b[0;34m.\u001b[0m\u001b[0mhead\u001b[0m\u001b[0;34m(\u001b[0m\u001b[0;36m5\u001b[0m\u001b[0;34m)\u001b[0m\u001b[0;34m\u001b[0m\u001b[0;34m\u001b[0m\u001b[0m\n\u001b[1;32m      5\u001b[0m \u001b[0msns\u001b[0m\u001b[0;34m.\u001b[0m\u001b[0mbarplot\u001b[0m\u001b[0;34m(\u001b[0m\u001b[0mdata\u001b[0m \u001b[0;34m=\u001b[0m \u001b[0mgenre10\u001b[0m\u001b[0;34m,\u001b[0m \u001b[0mx\u001b[0m \u001b[0;34m=\u001b[0m \u001b[0;34m'top genre'\u001b[0m\u001b[0;34m,\u001b[0m \u001b[0my\u001b[0m \u001b[0;34m=\u001b[0m\u001b[0;34m'Genre'\u001b[0m\u001b[0;34m,\u001b[0m \u001b[0mci\u001b[0m \u001b[0;34m=\u001b[0m\u001b[0;32mNone\u001b[0m\u001b[0;34m)\u001b[0m\u001b[0;34m\u001b[0m\u001b[0;34m\u001b[0m\u001b[0m\n",
      "\u001b[0;31mNameError\u001b[0m: name 'genreyear' is not defined"
     ]
    }
   ],
   "source": [
    "top.groupby(['top genre', 'year']).size().reset_index(name = 'Genre').sort_values('Genre',ascending=False)\n",
    "y2010 = genreyear['year'] == 2010\n",
    "y2010_filt = genreyear[y2010]\n",
    "genre10 = y2010_filt.head(5)\n",
    "sns.barplot(data = genre10, x = 'top genre', y ='Genre', ci =None)"
   ]
  },
  {
   "cell_type": "markdown",
   "metadata": {},
   "source": [
    "Sin embargo, en 2011 aparecen los géneros soul británico, pop de Barbados y pop acústico, desapareciendo el 'hip pop' del top 5."
   ]
  },
  {
   "cell_type": "code",
   "execution_count": null,
   "metadata": {},
   "outputs": [],
   "source": [
    "y2011 = genreyear['year'] == 2011\n",
    "y2011_filt = genreyear[y2011]\n",
    "genre11 = y2011_filt.head(5)\n",
    "sns.barplot(data = genre11, x = 'top genre', y ='Genre', ci =None)"
   ]
  },
  {
   "cell_type": "markdown",
   "metadata": {},
   "source": [
    "En 2012 se experimenta un decremento muy notable del género dance pop, y aparecen el pop canadiense y las _boy bands_."
   ]
  },
  {
   "cell_type": "code",
   "execution_count": null,
   "metadata": {},
   "outputs": [],
   "source": [
    "y2012 = genreyear['year'] == 2012\n",
    "y2012_filt = genreyear[y2012]\n",
    "genre12 = y2012_filt.head(5)\n",
    "sns.barplot(data = genre12, x = 'top genre', y ='Genre', ci =None)\n"
   ]
  },
  {
   "cell_type": "markdown",
   "metadata": {},
   "source": [
    "En 2013 dance pop vuelve a sus valores de años anteriores (2010, 2011) y se pone de _moda_ la música electrónica."
   ]
  },
  {
   "cell_type": "code",
   "execution_count": null,
   "metadata": {
    "scrolled": true
   },
   "outputs": [],
   "source": [
    "y2013 = genreyear['year'] == 2013\n",
    "y2013_filt = genreyear[y2013]\n",
    "genre13 = y2013_filt.head(5)\n",
    "sns.barplot(data = genre13, x = 'top genre', y ='Genre', ci =None)"
   ]
  },
  {
   "cell_type": "markdown",
   "metadata": {},
   "source": [
    "Estas tendencias se mantienen, con ligeras variaciones, hasta 2019, donde el pop se convierte protagonista de las canciones más populares de Spotify."
   ]
  },
  {
   "cell_type": "code",
   "execution_count": null,
   "metadata": {},
   "outputs": [],
   "source": [
    "y2019 = genreyear['year'] == 2019\n",
    "y2019_filt = genreyear[y2019]\n",
    "genre19 = y2019_filt.head(5)\n",
    "sns.barplot(data = genre19, x = 'top genre', y ='Genre', ci =None)"
   ]
  },
  {
   "cell_type": "markdown",
   "metadata": {},
   "source": [
    "#### Año - Ánimo\n",
    "\n",
    "El año no parece ser determinante en el estado de ánimo de las canciones, aunque se puede observar en el gráfico que aparece a continuación que 2012 fue el año con las canciones más animadas. "
   ]
  },
  {
   "cell_type": "code",
   "execution_count": null,
   "metadata": {},
   "outputs": [],
   "source": [
    "sns.barplot(data = top, x = 'year', y ='val', ci =None)\n"
   ]
  },
  {
   "cell_type": "markdown",
   "metadata": {},
   "source": [
    "#### Año - Popularidad\n",
    "\n",
    "La popularidad de las canciones parece aumentar a lo largo del periodo 2010-2019. Esto tal vez se deba al aumento paralelo de la popularidad de Spotify, lo que hace que cada vez más personas escuchen música a través de esta plataforma."
   ]
  },
  {
   "cell_type": "code",
   "execution_count": null,
   "metadata": {},
   "outputs": [],
   "source": [
    "sns.barplot(data = top, x = 'year', y ='pop', ci =None)\n"
   ]
  },
  {
   "cell_type": "markdown",
   "metadata": {},
   "source": [
    "#### Año - Energía\n",
    "\n",
    "Al pesar de al principio del estudio de los años con las variables se ha visto un aumento de la bailabilidad, la energía (variable que parece estár relacionada directamente con la bailabilidad) parece que se va reduciendo. Esto se debería estudiar en futuros análisis para comprenderlo mejor."
   ]
  },
  {
   "cell_type": "code",
   "execution_count": null,
   "metadata": {},
   "outputs": [],
   "source": [
    "sns.barplot(data = top, x = 'year', y ='nrgy', ci =None)\n"
   ]
  },
  {
   "cell_type": "markdown",
   "metadata": {},
   "source": [
    "### Relación de las variables con el ánimo de una canción"
   ]
  },
  {
   "cell_type": "markdown",
   "metadata": {},
   "source": [
    "#### Ánimo - Género\n",
    "\n",
    "Según el gráfico de cajas, las _boy bands_ parecen ser las canciones que tienen menos valores bajos de ánimo. "
   ]
  },
  {
   "cell_type": "code",
   "execution_count": null,
   "metadata": {},
   "outputs": [],
   "source": [
    "sns.boxplot(data = genrefilt, x = 'val', y = 'top genre')\n"
   ]
  },
  {
   "cell_type": "markdown",
   "metadata": {},
   "source": [
    "#### Ánimo - Energía\n",
    "\n",
    "El ánimo y la energía está positivamente relacionado, ya que parece que a mayor energía, más animada es una canción."
   ]
  },
  {
   "cell_type": "code",
   "execution_count": null,
   "metadata": {},
   "outputs": [],
   "source": [
    "\n",
    "sns.lineplot(data = top, x = \"val\", y = \"nrgy\", color = 'olivedrab') \n",
    "             "
   ]
  },
  {
   "cell_type": "markdown",
   "metadata": {},
   "source": [
    "#### Ánimo - dB\n",
    "\n",
    "De manera análoga, a mayores decibelios parece aumentar el ánimo de una canción."
   ]
  },
  {
   "cell_type": "code",
   "execution_count": null,
   "metadata": {
    "scrolled": true
   },
   "outputs": [],
   "source": [
    "sns.lineplot(data = top, x = \"val\", y = \"dB\", color = 'olivedrab') \n"
   ]
  },
  {
   "cell_type": "markdown",
   "metadata": {},
   "source": [
    "#### Ánimo - Bailabilidad\n",
    "\n",
    "El ánimo y la bailabilidad también están positivamente relacionadas, lo cual se puede ver de manera clara en la gráfica: aumenta la facilidad de bailar una cacnión cuando aumenta el ánimo de esta, y viceversa."
   ]
  },
  {
   "cell_type": "code",
   "execution_count": null,
   "metadata": {
    "scrolled": false
   },
   "outputs": [],
   "source": [
    "sns.lineplot(data = top, x = \"val\", y = \"dnce\", color = 'olivedrab') \n"
   ]
  },
  {
   "cell_type": "markdown",
   "metadata": {},
   "source": [
    "#### Ánimo - Acusticidad y Ánimo - Duración\n",
    "\n",
    "La variable ánimo está negativamente relacionada con la acusticidad y la duración. Esto quiere decir que las canciones que sean más acústicas y más largas, serán menos animadas. "
   ]
  },
  {
   "cell_type": "code",
   "execution_count": null,
   "metadata": {},
   "outputs": [],
   "source": [
    "sns.set()\n",
    "\n",
    "val = sns.PairGrid(top, y_vars = ['acous', 'dur'] , x_vars = ['val'], aspect = 2)\n",
    "\n",
    "val = val.map(sns.lineplot, color=\"indianred\")\n"
   ]
  },
  {
   "cell_type": "markdown",
   "metadata": {},
   "source": [
    "### Bailabilidad por género\n",
    "\n",
    "Dentro de los quince géneros más populares, los más bailables parecen ser el pop y el pop canadiese, y los menos fáciles de bailar el r&b canadiense contemporáneo, el complextro y el hip pop."
   ]
  },
  {
   "cell_type": "code",
   "execution_count": null,
   "metadata": {},
   "outputs": [],
   "source": [
    "genrefilt15 = top[(top['top genre'] == 'dance pop') | (top['top genre'] == 'pop') | (top['top genre'] == 'canadian pop') |\n",
    "                   (top['top genre'] == 'barbadian pop') | (top['top genre'] == 'boy band') | (top['top genre'] == 'electropop')| (top['top genre'] == 'british soul')| (top['top genre'] == 'canadian contemporary r&b')| \n",
    "                   (top['top genre'] == 'big room')| (top['top genre'] == 'neo mellow')| (top['top genre'] == 'art pop')| (top['top genre'] == 'australian dance')| (top['top genre'] == 'complextro')| \n",
    "                  (top['top genre'] == 'hip pop')| (top['top genre'] == 'alt hip hop')]\n"
   ]
  },
  {
   "cell_type": "code",
   "execution_count": null,
   "metadata": {},
   "outputs": [],
   "source": [
    "b = sns.stripplot(data = genrefilt15, x = 'top genre', y = 'dnce')\n",
    "b.set(xticks=[])\n",
    "plt.legend(labels=['dance pop', 'pop', 'canadian pop', 'barbadian pop',\n",
    "          'boy band', 'electropop','british soul','canadian contemporary r&b',\n",
    "          'big room','neo mellow','art pop','australian dance',\n",
    "           'complextro','hip pop','alt hip hop'], bbox_to_anchor=(1, 0.5))"
   ]
  },
  {
   "cell_type": "markdown",
   "metadata": {},
   "source": [
    "### Popularidad de las canciones en función de diferentes variables"
   ]
  },
  {
   "cell_type": "markdown",
   "metadata": {},
   "source": [
    "#### Popularidad - Energía\n",
    "\n",
    "El el diagrama de dispersión de estas dos variables se aprecia cómo hay una tendencia a la popularidad cuanto más energética es una canción."
   ]
  },
  {
   "cell_type": "code",
   "execution_count": null,
   "metadata": {},
   "outputs": [],
   "source": [
    "\n",
    "sns.scatterplot(data=top, x='pop', y='nrgy', hue='nrgy', palette = 'YlOrBr')\n"
   ]
  },
  {
   "cell_type": "markdown",
   "metadata": {},
   "source": [
    "#### Popularidad - Bailabilidad\n",
    "\n",
    "Lo mismo pasa con la bailabilidad, aunque la relación no es tan clara."
   ]
  },
  {
   "cell_type": "code",
   "execution_count": null,
   "metadata": {},
   "outputs": [],
   "source": [
    "\n",
    "sns.scatterplot(data=top, x='pop', y='dnce', hue='dnce', palette = 'YlOrBr')\n"
   ]
  },
  {
   "cell_type": "markdown",
   "metadata": {},
   "source": [
    "#### Popularidad - Ánimo\n",
    "\n",
    "Y finalmente, parece verse que aunque está ligeramente relacionada la popularidad con el ánimo, no es tan determinante."
   ]
  },
  {
   "cell_type": "code",
   "execution_count": null,
   "metadata": {},
   "outputs": [],
   "source": [
    "\n",
    "sns.scatterplot(data=top, x='pop', y='val', hue='val', palette = 'YlOrBr')\n"
   ]
  },
  {
   "cell_type": "markdown",
   "metadata": {},
   "source": [
    "## 4. Conclusiones\n",
    "\n",
    "* Hay __184__ artistas con una canción en el top de Spotify en los últimos diez años.\n",
    "* __Katy Perry__ es la artista con más canciones en el top en el periodo 2010-2019 (17 canciones) seguida de __Justin Bieber__ (16).\n",
    "* __Dance pop__ es el género que más aparece en el DF y por tanto, se podría asumir que el más popular.\n",
    "* La canción que más tiempo dura (7 minutos) es __TKO__ de Justin Timberlake.\n",
    "* La canción con más palabras es __How Ya Doin'?__ de Little Mix.\n",
    "* La canción más popular en el periodo del DF es __Memories__ de Maroon5.\n",
    "* A mayor energía de una cacnión, más bailable y menos acústica es.\n",
    "* De 2010 a 2018 el género más popular es el _dance pop_, pero en 2019 es el __pop__.\n",
    "* La bailabilidad de las canciones aumenta a lo largo de los años.\n",
    "* __2012__ es el año con las canciones más animadas.\n",
    "* Cuando aumentan los decibelios, la energía o la bailabilidad de una canción, aumenta su __ánimo__.\n",
    "* El ánimo se reduce cuato más larga o más acústica es una canción.\n",
    "* Los géneros más faciles de bailar son el __pop__ y el __pop canadiense__, mientras que los más difíciles son el __complextro__ y el __r&b contemporáneo canadiense.\n",
    "* La energía y la bailabilidad de una cación parecen estar relacionadas de manera positiva con la popularidad.\n",
    "\n",
    "Aunque habría que continuar estudiando las variables para comprender mejor sus relaciones, a raíz de haber realizado este EDA surge la pregunta de si se podría crear una canción que llegase al top de Spotify. \n",
    "\n",
    "Por supuesto, la popularidad de una cacnión está altamente relacionada con cómo de conocido es el artista, lo cual no aparece en el DF y es muy relevante. "
   ]
  },
  {
   "cell_type": "markdown",
   "metadata": {},
   "source": [
    "## 5. Bibliografía\n",
    "\n",
    "Los enlaces que se han consultado, junto con apuntes y ejercicios de la asignatura _Python_, son los siguientes:"
   ]
  },
  {
   "cell_type": "markdown",
   "metadata": {},
   "source": [
    "https://towardsdatascience.com/exploratory-data-analysis-in-python-c9a77dfa39ce\n",
    "\n",
    "https://www.interactivechaos.com/manual/tutorial-de-seaborn/count-plot\n",
    "\n",
    "https://blog.adrianistan.eu/estadistica-python-media-mediana-varianza-percentiles-parte-iii\n",
    "\n",
    "https://seaborn.pydata.org/examples/many_pairwise_correlations.html\n",
    "\n",
    "https://steakrecords.com/es/716617-seaborn-snsset-changing-plot-background-color-python-seaborn.html\n",
    "\n",
    "https://python-graph-gallery.com/category/seaborn/\n",
    "\n",
    "https://www.interactivechaos.com/manual/tutorial-de-seaborn/diagrama-de-dispersion\n",
    "\n",
    "https://python-graph-gallery.com/161-custom-matplotlib-donut-plot/\n",
    "\n",
    "https://showmecode.info/python/matplotlib/pie/change-pie-colors/#:~:text=Use%20the%20colors%20parameter%20to,pie%20chart%20colors%20in%20Matplotlib.\n",
    "\n",
    "https://matplotlib.org/examples/color/named_colors.html\n",
    "\n",
    "https://stackoverflow.com/questions/40088585/turn-off-error-bars-in-seaborn-bar-plot\n",
    "\n",
    "https://stackoverflow.com/questions/4700614/how-to-put-the-legend-out-of-the-plot\n",
    "\n",
    "https://stackoverflow.com/questions/46173419/seaborn-change-bar-colour-according-to-hue-name"
   ]
  }
 ],
 "metadata": {
  "kernelspec": {
   "display_name": "eda_env",
   "language": "python",
   "name": "eda_env"
  },
  "language_info": {
   "codemirror_mode": {
    "name": "ipython",
    "version": 3
   },
   "file_extension": ".py",
   "mimetype": "text/x-python",
   "name": "python",
   "nbconvert_exporter": "python",
   "pygments_lexer": "ipython3",
   "version": "3.8.5"
  }
 },
 "nbformat": 4,
 "nbformat_minor": 4
}
